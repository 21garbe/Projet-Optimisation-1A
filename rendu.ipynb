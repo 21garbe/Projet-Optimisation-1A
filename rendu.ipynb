{
 "cells": [
  {
   "cell_type": "markdown",
   "metadata": {},
   "source": [
    "# <center> **Compte-rendu projet Optimisation**\n",
    "<div align = right> Camille Dubois & Florian Garbe"
   ]
  },
  {
   "cell_type": "markdown",
   "metadata": {},
   "source": [
    "On pose la fonction suivante à minimiser :\n",
    "$$\n",
    "\\begin{align*}\n",
    " f: p= \\left(\\begin{matrix} p_1 \\\\ \\vdots\\\\ p_N \\end{matrix}\\right) \\longrightarrow \\sum_{i=0}^{N-1} \\|p_{i+1}-R_i\\Delta p_{i,i+1} -p_i \\|_2^2 + \\gamma \\sum_{i, j \\in L}\\|p_j - R_i\\Delta p_{i,j}-p_i\\|_2^2\n",
    " \\\\\n",
    " c_1(p) = p_{,3} - \\pi \\leq 0 \\\\\n",
    " c_2(p) = p_{,3} + \\pi \\leq 0\n",
    " \\end{align*}\n",
    "$$\n",
    "\n"
   ]
  },
  {
   "cell_type": "markdown",
   "metadata": {},
   "source": [
    "Ainsi les variables de décisions sont $p = \\left(\\begin{matrix} p_1 \\\\ \\vdots \\\\ p_N\\end{matrix}\\right) \\in \\mathbb{M}_{3, N} $ au nombre de $3N$."
   ]
  },
  {
   "cell_type": "markdown",
   "metadata": {},
   "source": []
  }
 ],
 "metadata": {
  "language_info": {
   "name": "python"
  },
  "orig_nbformat": 4
 },
 "nbformat": 4,
 "nbformat_minor": 2
}
