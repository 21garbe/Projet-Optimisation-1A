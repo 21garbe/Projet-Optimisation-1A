{
 "cells": [
  {
   "cell_type": "markdown",
   "metadata": {},
   "source": [
    "# <center> **Compte-rendu projet Optimisation**\n",
    "<div align = right> Camille Dubois & Florian Garbe"
   ]
  },
  {
   "cell_type": "markdown",
   "metadata": {},
   "source": [
    "On pose la fonction suivante à minimiser :\n",
    "$$\n",
    "\\begin{align*}\n",
    " f: p= \\left(\\begin{matrix} p_1 \\\\ \\vdots\\\\ p_N \\end{matrix}\\right) \\longrightarrow \\sum_{i=0}^{N-1} \\|p_{i+1}-R_i\\Delta p_{i,i+1} -p_i \\|_2^2 + \\gamma \\sum_{i, j \\in L}\\|p_j - R_i\\Delta p_{i,j}-p_i\\|_2^2\n",
    " \\\\\n",
    " c_1(p) = p_{,3} - \\pi = \\theta_i - \\pi \\leq 0 \\\\\n",
    " c_2(p) = p_{,3} + \\pi = \\theta_i + \\pi \\leq 0\n",
    " \\end{align*}\n",
    "$$\n",
    "\n"
   ]
  },
  {
   "cell_type": "markdown",
   "metadata": {},
   "source": [
    "Ainsi les variables de décisions sont $p = \\left(\\begin{matrix} p_1 \\\\ \\vdots \\\\ p_N\\end{matrix}\\right) \\in \\mathbb{M}_{3, N} $ au nombre de $3N$."
   ]
  },
  {
   "cell_type": "markdown",
   "metadata": {},
   "source": [
    "---"
   ]
  },
  {
   "cell_type": "markdown",
   "metadata": {},
   "source": []
  },
  {
   "cell_type": "markdown",
   "metadata": {},
   "source": [
    "---"
   ]
  },
  {
   "cell_type": "markdown",
   "metadata": {},
   "source": [
    "### Question 3.\n",
    "&ensp;&ensp;&ensp; On réalise la fonction permettant de lire les données du fichier INTEL.txt qui contient 1227 lignes ODO, donc 3 681 incconues sont liées à ce jeu de données."
   ]
  },
  {
   "cell_type": "code",
   "execution_count": 5,
   "metadata": {},
   "outputs": [],
   "source": [
    "# on importe les modules nécessaires\n",
    "import numpy as np"
   ]
  },
  {
   "cell_type": "code",
   "execution_count": null,
   "metadata": {},
   "outputs": [],
   "source": [
    "def lec_don(file:str):\n",
    "    \"\"\" Cette fonction retourne les deltap_i,i+1 associé au mesures d'odométrie\n",
    "        ainsi que les deltap_i,j associé au mesures de fermetures\n",
    "        \n",
    "        return a tuple of array. \n",
    "            - The first array is the deltap_i,i+1 linked to the odométrie sorted\n",
    "            in rising order.\n",
    "            \n",
    "            - The second one is linked to the closing sorted as well in rising\n",
    "            order.\n",
    "            \n",
    "        parameters :\n",
    "            - The file that contains the data\"\"\"\n",
    "\n",
    "    ODO = np.zeros((1227, 3)) # l'array d'odométrie\n",
    "    LOOP = np.zeros((200, 5)) # L'array de fermeture\n",
    "    num_line = 0 # Le numéro de la ligne en cours\n",
    "\n",
    "    with open file as file:\n",
    "        for line in file:\n",
    "            type, p1, p2, dx, dy, dtheta = line.split(' ')\n",
    "            if type == \"EDGE_ODO\":\n",
    "                ODO[num_line] = [float(dx), float(dy), float(dtheta)]\n",
    "            if type == \"EDGE_LOOP\":\n",
    "                LOOP[num_line] = [int(p1), int(p2), float(dx), float(dy), float(dtheta)]\n",
    "            \n",
    "            num_line +=1\n",
    "\n",
    "    return (ODO, LOOP)\n",
    "\n"
   ]
  },
  {
   "cell_type": "code",
   "execution_count": 7,
   "metadata": {},
   "outputs": [
    {
     "data": {
      "text/plain": [
       "array([[0.],\n",
       "       [0.]])"
      ]
     },
     "execution_count": 7,
     "metadata": {},
     "output_type": "execute_result"
    }
   ],
   "source": [
    "np.zeros((2,1))"
   ]
  },
  {
   "cell_type": "code",
   "execution_count": null,
   "metadata": {},
   "outputs": [],
   "source": []
  }
 ],
 "metadata": {
  "interpreter": {
   "hash": "23a6b913c5c0dcb48130fb95bc8c7b084c5a812df45cbb14e417b737a9d4ee46"
  },
  "kernelspec": {
   "display_name": "Python 3.9.5 ('base')",
   "language": "python",
   "name": "python3"
  },
  "language_info": {
   "codemirror_mode": {
    "name": "ipython",
    "version": 3
   },
   "file_extension": ".py",
   "mimetype": "text/x-python",
   "name": "python",
   "nbconvert_exporter": "python",
   "pygments_lexer": "ipython3",
   "version": "3.9.5"
  },
  "orig_nbformat": 4
 },
 "nbformat": 4,
 "nbformat_minor": 2
}
