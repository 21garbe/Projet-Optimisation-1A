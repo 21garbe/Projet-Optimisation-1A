{
 "cells": [
  {
   "cell_type": "markdown",
   "metadata": {},
   "source": [
    "# <center> **Compte-rendu projet Optimisation**\n",
    "<div align = right> Camille Dubois & Florian Garbe"
   ]
  },
  {
   "cell_type": "markdown",
   "metadata": {},
   "source": [
    "On adopte les notations de l'énoncé, ie. $p = \\begin{pmatrix} p_1 \\\\ \\vdots \\\\ p_N \\end{pmatrix}$ où $ p_i = (x_i, y_i, \\theta_i$).\n",
    "On cherche alors à minimiser la fonction $f$ suivante :\n",
    "$$\n",
    " f: p = \\left(\\begin{matrix} p_1 \\\\ \\vdots\\\\ p_N \\end{matrix}\\right) \\longrightarrow \\sum_{i=0}^{N-1} \\|p_{i+1}-R_i\\Delta p_{i,i+1} -p_i \\|_2^2 + \\gamma \\sum_{i, j \\in L}\\|p_j - R_i\\Delta p_{i,j}-p_i\\|_2^2\n",
    "$$\n",
    "\n",
    "sous les contraintes :\n",
    "$$\n",
    "\\begin{align*}\n",
    "    c_1(q) &= \\theta - \\pi \\leq 0 \\\\\n",
    "    c_2(q) &= - (\\theta + \\pi) \\leq 0 \\\\\n",
    "    c_{3,i}(q) &= tan(\\theta_i) - \\frac{y_{i+1}-y_i}{x_{i+1}-x_i} \\leq 0 \\quad, i \\in [[1, N-1]] \\\\\n",
    "    c_{4,i}(q) &= - tan(\\theta_i) + \\frac{y_{i+1}-y_i}{x_{i+1}-x_i} \\leq 0 \\quad, i \\in [[1, N-1]]\n",
    "\\end{align*}\n",
    "\n"
   ]
  },
  {
   "cell_type": "markdown",
   "metadata": {},
   "source": [
    "Ainsi les variables de décisions sont $p = \\left(\\begin{matrix} p_1 \\\\ \\vdots \\\\ p_N\\end{matrix}\\right) \\in \\mathbb{R}^{N,3} $ au nombre de $3N$."
   ]
  },
  {
   "cell_type": "markdown",
   "metadata": {},
   "source": [
    "---"
   ]
  },
  {
   "cell_type": "markdown",
   "metadata": {},
   "source": [
    "### Question 2.\n",
    "\n",
    "**f convexe** : On se l\n",
    "\n",
    "**c convexe** : Rappelons que $c = \\left( \\begin{array}{l} c_1 \\\\ c_2 \\end{array} \\right)$. Les fonctions $c_1$ et $c_2$ sont affines donc convexes : $\\boxed{ c \\text{ est convexe}}$.\n",
    "\n",
    "**exeistence et unicité de la solution** : $c_1$ et $c_2$étant affines, $c$ est affine. Donc en notant $L = \\{ p \\in \\mathbb{R}^{N,3} / c(p) \\geq 0 \\}$, on a par convexité de $\\mathbb{R}_{-}$ que $L$ est convexe. Comme $f$ est également convexe, on a $\\boxed{ \\text{existence et unicité de la solution}}$."
   ]
  },
  {
   "cell_type": "markdown",
   "metadata": {},
   "source": [
    "\n",
    "---"
   ]
  },
  {
   "cell_type": "markdown",
   "metadata": {},
   "source": [
    "### Question 3.\n",
    "&ensp;&ensp;&ensp; On réalise la fonction permettant de lire les données du fichier INTEL.txt qui contient 1227 lignes ODO, donc 3 681 incconues sont liées à ce jeu de données."
   ]
  },
  {
   "cell_type": "code",
<<<<<<< Updated upstream
   "execution_count": 5,
=======
   "execution_count": 1,
>>>>>>> Stashed changes
   "metadata": {},
   "outputs": [],
   "source": [
    "# on importe les modules nécessaires\n",
    "import numpy as np"
   ]
  },
  {
   "cell_type": "code",
   "execution_count": 2,
   "metadata": {},
   "outputs": [],
   "source": [
    "def lec_don(f:str):\n",
    "    \"\"\" Cette fonction retourne les deltap_i,i+1 associé au mesures d'odométrie\n",
    "        ainsi que les deltap_i,j associé au mesures de fermetures\n",
    "        \n",
    "        return a tuple of array. \n",
    "            - The first array is the deltap_i,i+1 linked to the odométrie sorted\n",
    "            in rising order.\n",
    "            \n",
    "            - The second one is linked to the closing sorted as well in rising\n",
    "            order.\n",
    "            \n",
    "        parameters :\n",
    "            - The file that contains the data\"\"\"\n",
    "\n",
    "    ODO = np.zeros((1227, 3)) # l'array d'odométrie\n",
    "    LOOP = np.zeros((256, 5)) # L'array de fermeture\n",
    "    num_line = 0 # Le numéro de la ligne en cours\n",
    "    \n",
    "    with open(f) as file:\n",
    "        for line in file:\n",
    "            type, p1, p2, dx, dy, dtheta = line.split(' ')\n",
    "            if type == \"EDGE_ODO\":\n",
    "                ODO[num_line] = [float(dx), float(dy), float(dtheta)]\n",
    "            if type == \"EDGE_LOOP\":\n",
    "                #print(num_line -1227, type)\n",
    "                LOOP[num_line - 1227] = [int(p1), int(p2), float(dx), float(dy), float(dtheta)]\n",
    "            \n",
    "            num_line +=1\n",
    "\n",
    "    return (ODO, LOOP)\n",
    "\n"
   ]
  },
  {
   "cell_type": "code",
<<<<<<< Updated upstream
   "execution_count": 42,
=======
   "execution_count": 3,
   "metadata": {},
   "outputs": [],
   "source": [
    "ODO, LOOP = lec_don(\"INTEL.txt\")\n",
    "# Attention ODO est constitué sur la i-ème ligne des informations de \n",
    "# Deltap_i,i+1, tandis que LOOP contient sur chaque les lignes les\n",
    "# les informations i, j pour identifier le Deltap_i,j et les infos associées"
   ]
  },
  {
   "cell_type": "markdown",
   "metadata": {},
   "source": [
    "---"
   ]
  },
  {
   "cell_type": "markdown",
   "metadata": {},
   "source": [
    "&ensp; Il est nécessaire de définir dans un premier temps la fonction f à minimiser : on utilise pour cela le module <code>casadi"
   ]
  },
  {
   "cell_type": "code",
   "execution_count": 4,
   "metadata": {},
   "outputs": [],
   "source": [
    "opti = casadi.Opti();\n",
    "p = opti.variable(1227, 2) # on a 1227 poses qui contienent 3 inconnues chacune\n",
    "\n",
    "# on constitue ensuite notre fonction f à minimiser\n",
    "r1, theta1 = p[0,0], p[0,1]\n",
    "r , theta = 0, 0\n",
    "x, y = r*np.cos(theta), r*np.sin(theta)\n",
    "x1, y1 = r1*np.cos(theta1), r*np.sin(theta1)\n",
    "dx, dy , dtheta = ODO[0]\n",
    "f = (x1 - np.cos(theta)*dx - np.sin(theta)*dy - x)**2 + (y1 - np.sin(theta)*dx - np.cos(theta)*dy - y)**2 + (theta1 - dtheta - theta)**2\n",
    "# on commence par les relations d'odométrie\n",
    "for i in range(1226):\n",
    "    r1, theta1 = p[i+1,0], p[i+1,1]\n",
    "    x, y = x1, y1\n",
    "    x1, y1 = x+r1*np.cos(theta1), y+r1*np.sin(theta1)\n",
    "    dx, dy , dtheta = ODO[i+1]\n",
    "\n",
    "    f += (x1 - np.cos(theta)*dx - np.sin(theta)*dy - x)**2 + (y1 - np.sin(theta)*dx - np.cos(theta)*dy - y)**2 + (theta1 - dtheta - theta)**2\n",
    "\n",
    "# # Puis on ajoute les relations de fermetures (pour la question 5)\n",
    "# for k in range (256):\n",
    "#     i, j, dx, dy, dtheta = LOOP[k]\n",
    "#     xi, yi, thetai = p[i,0], p[i,1], p[i,2]\n",
    "#     xj, yj, thetaj = p[j,0], p[j,1], p[j,2]\n",
    "\n",
    "    #f += (xj - np.cos(thetai)*dx - np.sin(thetai)*dy - xi)**2 + (yj - np.sin(thetai)*dx - np.cos(thetai)*dy - yi)**2 + (thetaj - dtheta - thetai)**2\n",
    "\n",
    "opti.minimize(f)\n",
    "# les contraintes \n",
    "opti.subject_to( p[1] - np.pi ==0)\n",
    "\n",
    "# La solution à notre problème d'optimisation\n",
    "opti.solver('ipopt');\n",
    "sol = opti.solve();\n",
    "res = sol.value(p)\n"
   ]
  },
  {
   "cell_type": "code",
   "execution_count": null,
   "metadata": {},
   "outputs": [
    {
     "ename": "NameError",
     "evalue": "name 'res' is not defined",
     "output_type": "error",
     "traceback": [
      "\u001b[1;31m---------------------------------------------------------------------------\u001b[0m",
      "\u001b[1;31mNameError\u001b[0m                                 Traceback (most recent call last)",
      "\u001b[1;32mc:\\Users\\camdu\\Google Drive\\Scolaire\\Mines\\ue21 - Maths Appliquées\\ue21.1 - Optimisation\\Projet-Optimisation\\rendu.ipynb Cell 14'\u001b[0m in \u001b[0;36m<module>\u001b[1;34m\u001b[0m\n\u001b[1;32m----> <a href='vscode-notebook-cell:/c%3A/Users/camdu/Google%20Drive/Scolaire/Mines/ue21%20-%20Maths%20Appliqu%C3%A9es/ue21.1%20-%20Optimisation/Projet-Optimisation/rendu.ipynb#ch0000013?line=0'>1</a>\u001b[0m \u001b[39mprint\u001b[39m(res, res\u001b[39m.\u001b[39mshape)\n",
      "\u001b[1;31mNameError\u001b[0m: name 'res' is not defined"
     ]
    }
   ],
   "source": [
    "print(res, res.shape)"
   ]
  },
  {
   "cell_type": "code",
   "execution_count": null,
>>>>>>> Stashed changes
   "metadata": {},
   "outputs": [
    {
     "data": {
<<<<<<< Updated upstream
=======
      "image/png": "iVBORw0KGgoAAAANSUhEUgAAAXkAAAD8CAYAAACSCdTiAAAAOXRFWHRTb2Z0d2FyZQBNYXRwbG90bGliIHZlcnNpb24zLjUuMSwgaHR0cHM6Ly9tYXRwbG90bGliLm9yZy/YYfK9AAAACXBIWXMAAAsTAAALEwEAmpwYAABpI0lEQVR4nO3ddXhUR9vA4d+JuwtxVyRIkOAONSrQIqXeUne3t1/tbd+6u1K0pUBbSqG4WwIJRIi7u8vKfH9sSEMJECCeuS9yZffs2T1zSPLs7JxnnlGEEEiSJEl9k153N0CSJEnqPDLIS5Ik9WEyyEuSJPVhMshLkiT1YTLIS5Ik9WEyyEuSJPVhHRLkFUX5TlGUIkVRYltts1MUZYuiKMnN32074liSJElS+3VUT/4HYPa/tj0DbBNCBADbmu9LkiRJXUjpqMlQiqJ4AxuEEIOa7ycCk4UQ+YqiuAA7hRBBHXIwSZIkqV0MOvG1nYUQ+QDNgd7pfE9wcHAQ3t7endgkSZKkvicqKqpECOHY1mOdGeTbRVGUJcASAE9PTyIjI7u5RZIkSb2LoiiZZ3usM7NrCpuHaWj+XtTWTkKIr4QQ4UKIcEfHNt+IJEmSpIvUmUH+d+CW5tu3AL914rEkSZKkNnRUCuVK4AAQpChKjqIodwBvAjMURUkGZjTflyRJkrpQh4zJCyEWnuWhaR3x+pIkSdLFkTNeJUmS+jAZ5CVJkvowGeQlSZL6sG7Pk5ekvqS0ppHdycVYGBsyI9S5u5sjSTLIS9KlqGtSczi9jH0pJexLKSU+v6rlse9uDWdqsAz0UveSQV6SLoBaoyUmp5J9KSXsTSnhWFY5Ko3ASF+PEV62PDkriFBXK17bEM/tP0Ry9VBXXrwyFAcL4+5uutRPySAvSeeg1mhJLqrhYFop+1JKOJhWRk2jGkWBQa7W3D7eh/H+DoR72WFqpN/yvLF+9ny2I5XPdqawM7GY5y8P4fpwdxRF6cazkfqjDqtC2RHCw8OFrF0jdZfy2iaSCqtJKqwmoaCauLwqTuZX0ajWAuBtb8Y4fwfG+TsQ4WuPrbnReV8zpaia59bGcjijjDG+drx+7WD8HC06+1SkfkZRlCghRHibj8kgL/U3tY1qkotqSCqoJrE5qCcWVFNU3diyj5WJAQNdrRnkZsUgN2uGe9riYWd2UcfTagWrI7N5Y2MCDSot90/x557Jvhgb6J//yZLUDjLIS/1Kk1pLQWUDORV15JTXk1teT25FPTnldWSX6W6fYmKoR4CTJYHOlgQPsCRwgCVBzpY4Wxl3+NBKUXUDr25I4I+YPPydLPjf3MGM8LLr0GNI/ZMM8lKXa1JrqW/S0KDW0KDS0KjW0qDS0KDS0qjWfT99u+52o0pDw6nvKi0qjbblNVv/pmq0gromNTWNzV8N/9xuUGlPa4uigLOlCW62prjbmuLvaNESzD3szNDX69px8h2JRbywLpb8ynrum+zPw9MDMNSXU1akiyeDvNQuWq2gTqVpDpgqahr/uV3dHERrG9VUtw6qrYLrqfvVjWqa1NrzH/AsTAz1MDHUx9hAD0N9PVp3qBV0dxQFzI0MsDA2wMLkX9+NDRhgZYK7rSlutqa4WJtiZNCzgmhNo5qXf4/jl6gcwtyteX/+UHzlWL10kWSQ7+fSimvYHFfI8ZwKmtRa1FqBWqultlHTErhrGtTUNKlpz6+DkYEelq2CqrmxwWn3LUwMsDAywMzYQBewDfQxbv5uYtj6th7Gp743B3VjA71+lYHy14l8nll7gia1lhevDGXhKI9+df5SxzhXkJcplH2QEILY3Co2xxWwOa6A5KIaAHwdzDE10sdAXw8DPQVLEwNcbUx0PWKT1oHasPm7vu62sQGWrQJ6T+sV92aXDXZhmKctT/wSw3PrTrD9ZBFvzRuCXTsydySpPWRPvo/IKa/jQGopB9JKOZBaSn5lA/p6CqO87Zg10JmZAwfgamPa3c2UzkKrFXy3L523NiVia27I+zcMZay/Q3c3S+ol5HBNH9Kk1pJTXkdmWR3xeVXEZFcQk1NBYZUu/c/O3IgxvnZMCXJieohzu3K5pZ4jNreSh1YdI72klgen+PPI9ED0uvjCsNT7yOGaXkgIweH0MmJyKsgorSOrtI6M0lryKurRtnpf9nEwJ8LXnqEeNozxsyfQyVIGhV5skJs1Gx4cz39+i+Oj7SnE5lXxwYKhWJkYdnfTpF5K9uR7oPomDY/9HM1fsQUA2JgZ4mVvjpedGd72Znjam+Nlb0aAkwU2ZrKn3hcJIfjpYCav/BGPp50Zn944nBAXq+5ultRDyZ58L1JY1cCdP0YSm1fJU7ODWDTKUwbyfkhRFG6O8CbI2ZIHVh7jmk/38fKcgcwfKbNvpAsj0yR6kNjcSq7+ZB9pxTV8fVM49032lwG+nxvta8/GhyYwyseOZ9ae4NHV0TSoNN3dLKkXkUG+BxBCsOpwFvO+2I+eAmvuHct0ueCE1MzR0pgfbxvF4zMC+S0mj/lfHaSouqG7myX1EjLId7OqBhUPrDzGM2tPMMLLlvUPjJNjr9IZ9PQUHpwWwJeLR5BUUM21n+4nsaC6u5sl9QIyyHej6OwKrvhoD5tiC3hyVhA/3T4aJ0uT7m6W1IPNHDiAX+6JQK3VMvfz/fwWnUujWg7fSGcns2u6gVYr+HpPGm9vTsTZyoSPFg6V1QilC5JfWc+dP0YSl1eFlYkBlw92YU6YK6N97bu84JrU/eRkqB6kpKaRx3+OYVdSMbMHDuB/c4dgbSZzoKULp9Zo2ZtSwu8xeWyOLaC2SYOTpTFXDnFlzlBXhrhZyzkT/YQM8j3EvpQSHlkdTWW9ihevDGXxaE+ZDid1iAaVhm0JRfwWncvOxGKaNFocLIyZFOjIlGBHJgc5YWEsM6b7Khnku5lao+X9rUl8tjMVP0cLPl44TF5clTpNZb2KrfGF7EwqZndSMZX1KkwM9Zg1cABzh7szzt9BDun0MTLId6MjGWW8tiGemJxK5od78NKcUMyMZI9K6hpqjZZj2RX8Fp3LHzH5VNarcLU24dZx3iwY5SnLJfQRMsh3g6TCat7adJKtCUU4WxnzwhWhXBXm2t3NkvqxRrVuSGfpgQwOppVhYWzA/JEe3DbOG3fbi1u/VuoZZJDvQrG5lXy2M4W/YguwMDbg3sl+3DbWB1MjuWiz1HPE5lby9Z40NhzPB2D2oAHcNMaLcC9bDORShL2ODPKdrLSmkb/jC/kjJo/9qaVYmhhwS4Q3d4z3kaV+pR4tr6KeH/ZnsPJQFtWNamzMDJkS5MSUYCfG+tnjYGHc3U2U2kEG+Q4mhCClqIZdScVsTSjkcHoZWgGedmbMH+nBTRFecqxT6lVqGtXsSixmW0IhOxKLKK9TARA8wJIIP3smBzkxxtcOYwP5ibQnkkG+A1TWq9iXUsLu5oyFvEpd7ZBAZwtmDxzArEEDCHWxkimRUq+n0QqO51S0rDJ2OL2MRrUWcyN9JgQ4Mi1E19OXvfyeo1uDvKIos4EPAX3gGyHEm2fbtycFeY1WcCK3kt1JxexKKiY6uwKNVmBpYsA4PwcmBzkyMdBRLqkn9XkNKg37U0vYmlDE9oQiCqoaUBQY5mHDtBBnpoU4EeRsKTs43ajbgryiKPpAEjADyAGOAAuFEPFt7d+dQV4IQWpxDQdSS9mfWsrBtFLK61QoCgxxs2ZioCOTAh0Z6mEjL0xJ/ZYQgri8KrYlFLHtZCHHcyoBcLc1ZVqwE9NCnBkth3W6XHcG+Qjg/4QQs5rvPwsghHijrf07M8gLIRACNEKg0QqaNFrqGjXUNKpZsjSSinoVZbVNALjZmDLG156JgQ5MCHDETl48laQ2FVY1sONkEVsTitibUkyDSjesMz7AgTAPG0JcrAh1scLJ0lj29DtRd64M5QZkt7qfA4zu6IPE5lZy83eH0TYHcK1WoG0O6OLUtvO8lxkb6PHmdYOJ8LPH085M/kJKUjs4W5mwYJQnC0Z5njassye5mM1xha32Mybc246RXrYM9bTFw9YUO3Mj+XfWBTo7yLf1Ezwt3CqKsgRYAuDp6XlRB7ExM+TywQPQVxQURUFfT/elpyjoKbS6raCvp6vNbaSvh5mRAebG+hgb6DEp0EnmsneBtOIayuua8HGwwNbMUP6R9yEmhvpMDXZmarBuwZvKehUn86uIz68iOruCI+ll/Nmclw+6jpWrjSmuNia4WJviamOKk6Ux5sb6mBoaYGqkj5mRPqaG+i23zZq3GxnIIdP26jfDNVLPMOLVLZQ2D4tZmhgQ5GzJ+AAHJgY6EuZuI2uq9HG5FfXE5laSV1FPfmUDuRX1utsVDRRWN9CecKSnwGMzAnlgakDnN7iX6M7hmiNAgKIoPkAusABY1MnHlHqwynpd/vWLV4aSWVpLTHYFH25L5oOtyViZGDA+wIFBbtbMG+6Ok5VcQKWvcbMxxe0sGWkqjZay2ibqmjTUNalpUGmab2uoP/VdpeHP43l8tC2FOyf4YmIoP32fT6cGeSGEWlGUB4DN6FIovxNCxHXmMaWebUaoM4kF1dwx3qdlW3ltE3tTStiTXMzupBI2nijgcHoZP9w2qhtbKnU1Q309nNvxxu5ha8qSn6I4kVvJSG+52M75dPrAlhBioxAiUAjhJ4R4vbOPJ/VsPg7mZJXVodJoW7bZmhtxVZgrb80L48lZQQCM9bPvriZKPdwIL1sADqeXdXNLegd59ULqUj4O5qi1gszSujMeO5xexrNrTzDG145bx/q08WxJAnsLYwa5WfF3fOH5d5ZkkJe6Vnjzx+tdScWnbc+rqOfunyJxtzXli8UjZPaEdE5XDXElJruCzNLa7m5Kjyf/kqQu5eNgTvAASzbF/pNKp9UKnvglhka1lm9uCcfGTE4+k87tyua1GX6NyunmlvR8MshLXW72oAFEZpZTVK0r8vbjgQz2p5bynytD8XW06ObWSb2Bm40p00Oc+elgJnVN6u5uTo8mg7zU6RpUGm757jD3Lz9Kg0rDZYNcEAL+bp4R+Vt0HmEeNswf6dHNLZV6k7sn+VJep+LnI9nn37kfk0Fe6nQv/xHHrqRi/jyRz9R3dpJTXoevgzmbYgsA3Xh8kLOFnP0qXZBwL1tGetvyyY5Uahplb/5sZJCXOtXaozmsPJzNvZP9WHHnaKxMDVnyUxQaIdifWkJcXiXFNY142sk1RqULoygKz14eQklNI1/uSu3u5vRYMshLnSatuIbn18Uy2seOx2cEMtbfgV/vHctIb1syS+vQClj41UGEgJkDB3R3c6VeaLinLXPCXPlqdxopRdXd3ZweSQZ5qVMIIXh27QkM9BU+WjispQa/ubEB3986ighf3WSnqgbdx+xAZ8tua6vUu71wRQhmRvo8sjqaJrX2/E/oZ2SQlzrFz5HZHEov47nLQ06bql7fpOGXqGxSi2tO2/9ULX9JulBOVia8cd0QYnOreH9rUnc3p8eRQb6fEEKQU15HfZOm04/VqNbw7t9JhHvZMj9clzHToNLwyfZkxv9vO//5LQ53W1NW3Dma6SFOAERnl6M5X9F/STqL2YMGMD/cg893prZc0Jd0OrsKpdRDhL38d8vQiJWJAc5WJq2+jFtu25gZYmFsgKWJAZYmhtiYGqJ3geV/1x/Lpai6kXdvCGt57h8xebzzdxITAhx4cGoAQ9ytef3PBIqrG7EyMeD2H3Qlpo309TAx1MPW3AgXa12d8YGuVtwx3kdm30jn9PLVA0ksrObR1dG420YwyM26u5vUI8gg3w9otIKqBjUmhno8ODWAoqoGCqsaKahqIC21hKLqRtRn6UXr6ynYmxvhYGGMtakh5sb6mBkZYGFigIO5EfYWxthb6B53sDDC3tyYb/akM9DVivH+Di2vc6ok7ItXhhLobMnTa46zOjKb8f4OXBXmiquNKWqNoEGtKytbWttEfkU9647l8ntMHreO9cZAXwZ56exMDPX56uYRXPPJPu5bfpRtj0/CUK7HLIN8f1DVXMP9qVnB3D7+zMJfWq2gtLaJwqoGqupVVDeqqW5QU1mvorSmkZKaRkpqmqhuUJFXoaKuSU1Vg5ryuqazLvLwnytDT+t525gZArp68j9HZrM6MpsHp/rz+Mygs7Z7w/E8orLKmwO8/GOVzs/J0oTXrh3E7T9EsvZoDvNHXtxqc32JDPL9QGFz+YCzLUiup6fgaGmMo6XxBb2uRisor2uipKaR0hrd94dXRQMwMdDhtH1tTHXHjs6q4N0tiYz1s+eR6YFnfe0dJ4t4ZFU0I73seOIcbwSS9G9TgpwY4m7NJztSuG64e7/vzffvs+8nDqaWAv/U4e4o+noKDhbGBA+wYpy/A1cPdWt5zO9fNWhO9eRf35iAkb4e788fetal/jaeyOfuZVEEu1jyza3hcu1d6YIoisJDUwPILqtn/bHc7m5Ot5NBvh/Ym1KKp50ZHl04q/TfF0lPLfsH8J+rBra5ApAQgs93pnLf8qMMcbPmp9tHY2Vi2OltlfqeaSFODHKz4pMdKactUNMfySDfx6k1Wg6mlTLO3+H8O1+CBpWGIxltr9Sj1Qqu/HgvACO9bZk73K3N/X7Yn8H/Np3kqjBXlt05GtuzDC9J0vkoisLjM4LILK3r9yUP5Jh8HxeTU0FNo/q0TJe2HMsqJzKjnDsnnDtVsUmtJamwmvi8KuLzq0gtriG9pJbcivqWi7D/fvrMD3a33F61JKLN1/8lMpvX/0xgRqgzH84fesFpm5L0b1OCnbhyiAsfbUth5sAB/XZWtQzyfdy+lFIU5exrpgohWHs0l8d/iQHgUHopj88MIsTFqmWf3Ip6NscWsCmugGNZ5ag0umhuZqSPr6M5wz1tmTfCHV9HC/46kc+BtNLTjuFqY0pKUQ2p/738jHF4tUbLG3+d5Nu96Yzztz8tt16SLtXLcwayP7WUe5dFsfbecVib9b/hPxnk+7ijWeUEOFm0OfRRUtPIS7/H8efxfEZ42eJibcL2k0Vs/XAP4V62+DiYc7KgmhO5lQAEOVty+zgfBrlZM9DVCm978zMCclJBNZvjCtBqRctjS28f1WbbcsrreHR1NEcydGmSL1wRIlMlpQ5lb2HMZzcO56ZvD3Hv8ih+vH1Uv8u2kUG+DxNCEJ1dwazQ0ys8arSClYezeGvTSepVGp6cFcQ9k/zQ11PYn1LCom8OEZlZTmRmOQC3jvXmlrHe+DiYn/eY1qaGaAXUNKnPetFUCMHvMXm8sC4WAbw/P4xrh7lf8vlKUlvG+NrzxnVDeOKXGF5cH8sb1w3uV7OnZZDvw/Ykl1BRp2K0r13LttjcSp5fH0tMdgURvva8es0gPOxMWXcsl2UHM4nOrsDEUI+pwU5U1as5nFHGqiNZWJkYcPckP8yNz/0rY23aPOmpTtVmkM8uq+PF32LZmVjMCC9bPpg/tEuzfqT+ad4IdzJKavlkRwrmxga8eGVodzepy8gg30cJIXhvSxJuNqZcOcSV6gYV7/6dxNIDGdiZG/PB/KFMC3FixaEsvt2bTlF1I36O5vznylDmDndvGbvMLqvjrc2JfLQ9hVVHsnlwWgDXj3BvKVPwbwOsdamRuRX1pwXvBpWGb/em8/H2ZPQVhRevDOWWCC85PCN1mcdnBlJR38S3e9OZN8L9tOtOfZkM8n3UzqRiorMreOO6wRxOL+OpNTHkVzVw0xgvHp8ZxI6TRUx8awfldaqWC57j/R3O+BjrYWfGxwuHcetYb/67MYEX18fyyfZklkz0Y9EozzMmKgU46yZBJRfVMMbXHiEE66NzeWtTIvmVDcweOICX5oTiYm3aZf8XkgS6tMpHpgey4lAWf8UWyCAv9V5CCN7fkoSduRHRWRU8u/YEvo7m/HrvWNxsTHn852i2JhQx3NOG768ayFAPm/O+5ggvW9bcE8H+1FI+3p7MqxviWXogg7fnhTHK55/hoAFWJlgYG5BYUEVlvYrn1p7gzxP5DHG35oP5Qxnt23aWjyR1BQcLY0Z62/HXiXwem3H2shp9ifys3AdtSyjieE4lZbVN/ByVzV0TfNj40ARSimqY/t4u9qaU8MIVIfxyz1jWHc3hhfUn2vW6iqIwzt+BVUsiWHHnaLRCMP+rA7y6IZ5GtaZlnzAPa5YdzOKKj/awKa6Ap2cHs/6+cTLASz3CZYMGkFxUQ0pRzfl37gNkkO9jymqbuHOprja7u60pv9wdwa3jfFjyUxRPrTlOiIsVmx6eyJ0TfEkrruHHA5msicq54OOM9Xdg08MTWTzai2/3pnPTt4epqGtCqxUcy6oAdNUvf747gnsn+8ncd6nHmD3IBYBNsfnd3JKuIYdr+gitVrD8cBbvbE5s2bb5kYmsj87l1u+PoBWCl+cM5KYxXi0Bd8b7upmo790w9KKOaW5swKvXDCLc25YnfznO0Fe24GVvRl3z6lNPXxbc4UXRJOlSDbA2YZS3HUsPZHLTGO8+P0FK9uT7iPe2JPHi+lgcLHSTnm4f58NdSyN5fl0sYR7WbH5kIreM9W4J8CdyKluee/lgl0s69nBP25asmszSOh6fEYiLtQlb4wsv6XUlqbP856pQSmubePXP+O5uSqeTQb4P0GoFP+zPAGBCgCMA3+1L53hOJf+9djDL7hh9WjqjEIKrPtEVDPt44bCLOqZGKzjQPF180ts7KKhqILy5134grZQ5Ya7sTi6hqLmWvST1JIPcrLl3kh9ronLYcbKou5vTqeRwTR+gp6fw2jWDeGR1dEuwtzIxYOWSMQx0PX2dy9yKep759XjL/SuHtL8X36TWsiW+kG0nC9mZWExZbRPWpobcPcmPWyK8GWBtwpqoHJ74JQYzI300WsHv0XncOcG3Q85TkjrSg9P8+Tu+gGfXnuDvxyb22bLWMsj3EdcMc+OpX4/TpNbVzv5i8YjTArxKo+X7fem8vyWZepVuzHzlXWPaPb17Z2IRr/wRT1pJLTZmhkwJcmJqsBPTQ5xPy5WfN8KdqMxyVh/JwkBPYU1UjgzyUo9kbKDP2/PCuPazfbz6RzxvXx/W3U3qFDLI9xEFlQ0tAR7g4+0phHnYYG5sQFRmGc+vi+VkQTVTg53Yk1xMqKs1Y1qVO2iLEIIDaaV8uyedbSeL8HEw55ubw5kS7HTWVZ0AnrksmK0JhRRXN3KyoJqozHJ5AVbqkcI8bLhvsj+f7EhhtK8980b0vRpKlzQmryjK9YqixCmKolUUJfxfjz2rKEqKoiiJiqLMurRmSudS26hmzBvbAHhwqj/vzw/jYHopsz/czb3Lopj7+QGq6lV8ddMIXrgiBJVGMDXI6ay9+LLaJr7ancrUd3ex6OtDHMko46nZQWx6ZALTQ53PGeBBV7/mpav+qQ3y0bbkjjtZSepgj0wPIMLXnufXnSA2t/L8T+hlLrUnHwtcB3zZeqOiKKHAAmAg4ApsVRQlUAihucTjSf/SoNJw54+RLfcfmxGIoii4Wpvy7NoT7E4q5oEp/tw7WVdcTKsVjPK248vdqUwPdWoZ0lFrtBxKL2P1kWw2xRbQpNES7mXLg1P9uXywy1lr1ZzNFYNdWBOUw87EYnYlFXM0q5zhnrI3L/U8Bvp6fLxoGFd9vJd7lkWx4cHx2Jj1nVXJFHFqOZ9LeRFF2Qk8IYSIbL7/LIAQ4o3m+5uB/xNCHDjX64SHh4vIyMhz7SK1IoTgoVXR/BGTB8C714cxt9XHTa1WoBHijPrZRVUNXP3pPuqaNDwyPYDjOZVsP1lEZb0KSxMD5g53Z+EoT4IGXNpKOtlldUx4awcAkwId+fEsdeUlqSc4llXO/C8PEuFnz3e3jjzvJ9aeRFGUKCFEeFuPdVYKpRuQ3ep+TvO2MyiKskRRlEhFUSKLi4s7qTl907pjuS0B3sHCiCvDTs+U0dNT2lwgwcnKhG9vGUllvYqX/4hnZ2IR00Oc+WLxCA4/N53/mzPwkgM86IqbPXNZMAC7koo5llV+ya8pSZ1lmKctL80JZVdSMR/2oSHG8w7XKIqyFRjQxkPPCyF+O9vT2tjW5kcGIcRXwFeg68mfrz2STnZZHf/5LQ43G1NyK+qZP9IDY4P2D6mEulqx+ZGJZJXVMSXIsdNK/t4x3ocVh7LIKqvj9T8TWHPv2E45jiR1hEWjPDmWVcFH25IJc7dmWohzdzfpkp33L1sIMV0IMaiNr7MFeND13D1a3XcH8i61sZKORit4dHU0CjDKxw5FgYWjPC/4dYIGWDIj1LlTa7ob6uvx4YKhAERmlsvevNSjKYpuzslAVyseWR1NUmF1dzfpknXWX/fvwAJFUYwVRfEBAoDDnXSsfuezHSlEZpbz8PQAtsQXMiPEGXfbnru60jBPW+4Y7wPA//3R96eRS72biaE+XywegamhPgu+OkhCflV3N+mSXGoK5bWKouQAEcCfzRdYEULEAT8D8cAm4H6ZWXPp0opreGjlMd7dksRVYa6kFNXQoNLwdPO4d0/2zGXBzAlz5aYxXt3dFEk6Lw87M1bfHYGRvh6Lvj5IXF7vTa3skOyajiKza9qWkF/FpztS2HgiH0N9Pe6e6Iu7nRlPrTnOXRN8eP6K/rNepSR1pczSWhZ+dZDaJg3L7hjNYHfr8z+pG3RHdo3UAY5llXPnj0e47MM97DhZxJKJfux9eiqTgpx4YX0so3zseHJWz+/FS1Jv5WVvzuq7I7A0MWDRNwc5nlPR3U26YLIn38MIITiYVsanO1LYm1KCtakht4/z4daxurrXOeV1XPPpPsyNDVh33zjszPvOpA1J6qlyK+qZ/+UBahvV/HLPWPydLLq7Sac5V09eBvkeQgjBzsRiPtmRQlRmOQ4Wxtw1wYcbx3hhYazLdK1pVDPv8/3kVtSz7r5xPe4XTZL6soySWuZ9sR8jfT1+vW9sj1qM/lxBXhYo62ZarWBzXAGf7EghLq8KNxtTXrl6IDeEe5xWSkAIwZO/xJBcVMMPt42UAV6Supi3gzk/3DaKhV8d5KZvD/PL3RHY9oJP0nJMvpsIIfg9Jo+ZH+zm3uVHqWvS8NbcIex4YjI3R3ifUSvmx/0Z/BVbwNOzg1oWBpEkqWsNcrPm61vCySqr47YfjlDbqO7uJp2XDPLdoK5JzWM/x/DQymPoKwofLRzG1scmccNID4wMzvyR7Esp4fWNCUwPceIuWZtdkrrVGF97Pl44jOM5FdyzLOq0Et89kQzyXSylqIZrPt3H+uhcHpsRyF8PT2BOmOtZiyEdyyrnrqWR+DpY8M71Ye1e5EOSpM4za+AA3rxuCHuSS3j8lxi02p5zbfPf5Jh8F/o9Jo9nfj2OiaE+P90+mvEBDufcP6Womlu/P4KDhTE/3TGqT5U/laTe7oaRHpTVNfHmXyexNTPk5TkDe2QnTAb5LvLWppN8tjOVEV62fLJo2HmvzJfWNHLbD0cw1Ndj2R2jcbIy6aKWSpLUXvdM8mteZCcNe3NjHp4e0N1NOoMM8l3gWFY5n+1MZd4Id964bnCb5X9ba1BpWPJTFEVVjay+OwJP+55bl0aS+rtnLwumrLaJ97cm4WBpxI2je1bpDhnkO5kQglc2xONoacz/zRl43gAvhOCpNceJyiznsxuHM9TDpmsaKnWZRrWG5MIaEvKrsDQxZPagtip5S72Foii8ed1gSmsaeXF9LK7WpkwJduruZrWQQb6TLT2QybGsCt6eN6RlUtO5vL81md9j8nhqdhCXD3Y57/5Sz1Zc3UhCflWrr2pSi2tQt7pQ98s9EYz0Pvei6lLPZqCvxyeLhjP/qwPcv+IoS28fRXgP+ZnKGa+dKKWomis+2ss4fwe+vSX8vBdl1h3L4dHVMVw/wp235g3pkRdxpLapNVrSSmpJyK8ivjmYJ+RXUVzd2LLPACsTQlwsCXGxIsTFCh8Hc2774QjutqasvXes/Hn3AUVVDSz4+iD5FQ18c0s44/zPnVzRUeSM1y7WpNayJb6Qd7ckYm5swJtzB5/3D/hwehlPrznBGF87Xr/2/PtL3UerFRzPreRoZrmud15QRVJhTUu+tJG+Hv5OFkwMcCTExZLQ5qDe1uzIh6b68+JvcZwsqCbExaqrT0XqYE5WJqxeEsFN3x7ith+O8O71YVwV5tqtbZJBvgNptIJfj+bw3t9JFFQ14G5rykcLhuFkee7MmNjcSu5aGom7rSlfLB7R5oQoqXs1qDTsSylhS3whWxOKKKnR9dAdLIwIcbHi1rHeLb10P0eL8157OWWEl+4jfWpxjQzyfYSjpTEr7xrDXUsjeXDlMRLyq3h8ZlC3LQwug3wHOZBayisb4knIr2KYpw1vXDeYiYGO5/3BHs+pYPE3h7A0MeTH22UufE9S06jmrxP5/B1fyJ7kYhpUWiyMDZgU5MjMUGcifO0vObXVx8EcgLTi2o5ostRD2JobseKuMbz0eyyf7UwlPr+K928Y2i21bmSQv0TltU38d2MCv0Tl4GZjyscLh3HlEJd2DbfE51Wx+JtDWJkasvKuMXjYyVTJ7iaE4GhWBauPZLHheD51TRpcrU24IdyD6SHOjPG179BPWqZG+rjZmJJWXNNhryn1DEYGevz32sEMdLXmlT/iufLjvXyyaBjDPG27tB0yyF+kUwXGXvkjnsp6FfdN9uOhaQFnFBY7m4ySWm7+7jDmxgasWjKmR6/R2l8cSivl3S1JHE4vw8xInzlhrtww0oNhHjadeo3E19Gc9BLZk++LFEVh8Rgvhrhbc9/yo9zw5QFeuCKUmyO8uuy6mwzyFyG7rI7n18eyO6mYoR42LLtu8AWNpxZXN7L420NotFpWLRkrA3w3Syqs5rU/E9idVIyjpTEvXRXK9eEe7Up57Qi+DuasPZbbJceSuscQdxv+fHACj/0czUu/x3E4o4z/zW1fWvWlkkH+Am2KzeeJX44D8PKcgSwe43VBF1Sa1FruWx5FSU0jq5dEyLrw3aikppGPtiWz/FAW5kb6PHd5MDeN8cbUqH2fxjqKlalhryhZK10aazNDvr45nC93p/H25pMk5FfxxeIRBDpbdupxZZBvJ41W8Nbmk3y5K40wDxs+u3E4bjYXvjLMqxviOZJRzocLhhImZ7N2i9yKer7encaqI1k0qbXcONqLR2cEdttSivp6ClqhS83U66YMDKlr6Okp3DvZj6EeNjy48hhXf7KPN+cO5uqhbp12TBnk26GmUc1DK4+x/WQRN4725D9XhWJscGG9vSa1lv9uTOCng5ksmejbqT9UqW0qjZaPtiXz+c5UAK4Z5sY9k/y6/dOUgi6w95xpiVJni/Cz58+HxvPAiqM8vCqa1OJaHp0e0Cnj9DLIn0dBZQO3/XCEpMJqXr1mEDeNufDiQwWVDdy/4ihRmeXcNs6bp2YFdUJLpXPJKq3j4dXHOJZVwXXD3Hh8VtBFfRLrDDWNKkwN9bstj1rqHs5WJqy4awyPro7mo23JWBobcNfEjl8USAb5cyipaWTh1wcprm7ku1tHMinwwpfdi82t5PYfjlDTqObjhcO6ffZbf7TuWA4vro9DUeiRP4OqejXWpobd3QypG6QU1RCfVwWAg2XnDBfKIH8WVQ0qbv72MPmV9Sy/c3TLzMQLsTW+kAdXHsPO3Ii1940leICc0diVcivq+d9fJ/k9Jo9wL1s+WDC0R2YyldY2YWMmg3x/IoRgxeEsXv4jHpvmeTIRfvadciwZ5Nug1mi5f/lRkouq+frm8IsK8PtTS1jyUySD3Kz55pbw85Y2kDpOZmktn+1I5dejOSgKPDI9gAem+GPQzlIDXS2/sh4Xa/n70V9UN6h4du0JNhzPZ0KAA+/PH4qDhXGnHU8G+Ta89mcCe5JLeGvuECYHXXhd6MKqBh5aeQwfB3NW3DWmy/Kt+7ujWeV8uzedTbEF6Osp3DjakyWT/HrM2HtbhBDkVdTLTKt+Ija3kgdWHCW7vJ4nZwVx7yS/Ts+oktHnX9Yfy+WH/RncOd6HG0Z6XPDzVRotD644Rm2jhpUywHeJnYlFfLA1mejsCixNDLhzvA93jPfpFUsmniyoprxOxRA36+5uitTJlh3M5JU/4rEzN2LVkjFdtoaAjECtFFQ28OJvsYR72fLs5SEX9RrvbE7kcEYZHy4YSkAnT3Lo7zJLa3l1QzxbE4rwtDPj5TkDmTfCHfNe9Mb6d1whigLTQpy7uylSJ1FptPzf73EsP5TF5CBH3rthaJfOyeg9fw2dTAjBs2uPo9YI3rk+7Ix0tso6FdbnuTj25/F8vtydxuIxnjIPvhOll9Tyxc5U1h7LwUhfj2cuC+b2cT5tFg7LLqsjMrOMa4e5d0NLz00IwR/H8xjhaYujZeeNyUrdp7JexT0/RXEgrZR7Jvnx5KyuLzksg3yz7SeL2JFYzItXhuLdXP71lC3xhTz2czSvXj2Ia4a1HbwPppXy6OpoRnjZ8uKVoV3R5H4nPq+Kz3amsPFEPgb6eiwc5cn9U/xxPsewzIS3dgBgbmTAzIE9ay3V/amlpBTV8M71Yd3dFKkTVDWouPm7w8TnVfL+/LBu62jIII/u49TrGxPwdTTn5ogzJzsFD7AkyNmSR1ZHs+1kEa9dPei0Xn1iQTV3LY3Ew86Ub28Jv+DZsNK5RWWW89mOFLadLMLC2IAlE/24fbz3OTOWtFrB/zadbLm/9EBmjwvy3+9Lx87ciCuHyLV8+5rqBhW3fneYuNxKvlg8gumh3TccJ4M8sCYqh7TiWr65ObzNFX087MxYfXcEX+xK5f0tSRxOL+X+Kf7cEO5BWW0Tt35/GFNDfbnoRwcrqWnktQ3xrI/Ow9bMkMdnBHJzhPd5h800WsGTa2JYezSXm8Z4McDahLc3J7IrqfiiJrR1htjcSrYmFPHwBZSnlnqHkppGbvv+CAn5VXyyaHi3Bni4xIW8FUV5G7gKaAJSgduEEBXNjz0L3AFogIeEEJvP93rdsZC3RiuY9u5OrEwN+e3+ceetHXE8p4KX/4gnKrMcBwtjzI31Ka1p4ue7Iwh1lZOdOoIQgl+P5vLqhnjqmtTcO8mPuyf5teuCqkYrePKXGNYey+WxGYE8ONWfJo2WWe/vRl9PYdMjE9u9NF9nuvX7wxzLqmDP01OwMpETofqK7LI6bv5ON4ny8xtHMCX4wlOwL8a5FvK+1N/2LcAgIcQQIAl4tvmAocACYCAwG/hMUZQe2V3ZHFdARmkd90zya1dxoCHuNqy5J4JVS8YQPMCSwqoGvrxphAzwHaSkppElP0XxxC8xBDpb8NfDE3hsZlC7AnxhVQP3LY9i7bFcHp8RyEPTdAWfjA30efHKUFKLa/lxf0bnn8R5HMkoY2diMfdO9pMBvg8pqm5g4dcHKa1pZPmdo7sswJ/PJQ3XCCH+bnX3IDCv+fbVwCohRCOQrihKCjAKOHApx+sM647l4mJtwqwLGK9VFIUxvvaM8bVHpdH2iJ5hX7ArqZjHVkdT3aDm+ctDuH28T7syERrVGr7dm84n21NQawTPXR7Mkol+p+0zNdiJyUGOfLg1mQWjPLtt/oIQgrc3J+JoacwtEd7d0gap49U2qrnjh0hKa5pYuWQMQ3vQ5LaOjE63A38133YDsls9ltO87QyKoixRFCVSUZTI4uLiDmzO+TWoNOxNLmF6iPNFpzXJAN8xfonM5vYfjuBoacyGh8Zz10Tf8/5MNFrBGxsTCHphE29tSmS8vwNbH5t0RoAH3RvzA1P8qW5U83dcQWedxnntSS7hcHoZD0317/LFSaTO0aDScPdPUcTlVfLJomE9KsBDO4K8oihbFUWJbePr6lb7PA+ogeWnNrXxUm0O/gshvhJChAshwh0du/ai2IG0UupVGqaF9IyPVf2REIJPd6Tw5JrjRPjas+bese1eKae0tpEvd6e13PdxNKekthGttu3rTCO8bHG3NWVdNy21d6oX72ZjyvyRnt3SBqljNag03PljJPtSS3hrXliPnNR23s+sQojp53pcUZRbgCuBaeKfq7g5QOuaAO5A3sU2srMcTC3FUF9htE/nVH+Tzk2rFbyyIZ4f9mdw9VBX3p4X1uaEprNxsjRh/zNT2ZFYxKbYAr7dk86Xu9LwsDPl+hEezB3hflrdGkVRuGKwC1/vSaNRrenyVNfNcQWcyK3knesv7DylnqlJreWupboA//a8MOaN6HkT7uASx+QVRZkNPA1MEkLUtXrod2CFoijvAa5AAHD4Uo7VGQ6llxHmbiM/NneDiromHv85hm0ni7hzvA/PXR5yUYWaXG1MuXG0FzeO9qKyTsXWhEJ+PZrDe1uSeH9rEuP9Hbg+3IOZoc6YGOqjKAr6egpGXTzMptEK3v07CT9Hc649y4Q6qffQagWP/RzdUsiwpwZ4uPQ8+U8AY2BLc2bKQSHEPUKIOEVRfgbi0Q3j3C+E0FzisTpUk1pLbG5lp6zEIp3bsaxyHlhxjKLqBl65eiA3d9AFSGszQ+aOcGfuCHeyy+r4JSqHX6NyeGjlMaxMDHhqdjClNY3Ymxt3yjJr5/JbdC7JRTV8duNwuQJULyeE7hPohuP5PHNZ8EUVMuxKl5pd43+Ox14HXr+U1+9MWWW1qLWCIFlErMsIIfh+XwZv/JWAs5UJa+4Z22EldoUQpwVuDzszHpsRyCPTAtifWspDq46xNaGQukYNLjZdW52ySa3l/a1JDHKzYnYPm3UrXbhv9qTzw/4M7hjvw929oJPYbwcGU4pqAfB1ND/PnlJHqGpQce+yo7yyIZ5JgU78+eCEDgvwG0/k4/PsRuLyKs94TE9PYZy/PSq1FhdrU6KyyhnmYdshx22vFYcyyS6r5/GZQZ1eO1zqXBtP5PP6xgQuHzyA5y8P6fJPhBej35Y1SC2uAcDX0aKbW9L3xeZWct/yo+RV1PP85SHcOcGnw/446prU3Lf8KAAqTdtZNRqtoLpRTVltIxqt4Lt96Yz1s2dykGOnrxYVm1vJf/86yYQAByb3kJIK0sXZGl/II6ujGe5pw3s3DO01b9j9OsgPsDKRi3p0stVHsnhxfRz2FkasvnvMRS2leDZCCP7zW1zLfbuz1A1SN6dUhnnYYGqoz77UUu5cGomjpTHXDXdjwUhPfFpVHi2paeSPmDxCXawY7XvxmVcVdU3csywKB3MjPpg/tFf0+qS2FVc3cv+KowQ5W/LNLSN7Vb2hfhvhskrr8HboeYs69yVRmeU8s/YE4/0d+HDBsA5fKOH9LUmsicoh3MuWyMxyssrq8LQ/82eqaQ7yBnoKHywYhkqjZcfJIn6OzOGb5rTLAVYmbHt8Eh9vT+Gr3aloBQywMuHgc9Muqm1areDR1dEUVjXw890R2HfiGp5S51t6IIMmjZYPF3Ttgh8dod+Oydc2abAwlnVDOkujWsPTvx7H1dqUzxeP6PA/jK93p/HR9hQWjPTg88UjADhZUNXmvqdmJTeptS33Zw4cwDe3hHPgmakAFFQ1cO1n+/hiVyrXDXfH1doEa9OL//34eHsKOxKLeemqgQzz7NprAFLHqmtS89PBTGaEOPfK4d1+G+QbVBqZH9+JPt2eQkpRDa9fO6jDh8S+3p3G6xsTuHKIC69fOxhHS2NcrE04kFra5v5GBnoY6etR23R6Fq8Qgt+i/5mjl1xUwzOXBfP2vCFMDXGioKrhotoXm1vJB9uSuG64GzeOljNbe7tfInOoqFOxpBdk0rSl3w7XqLVaDHrJhZPeJiG/is92pnLdMDcmB3VcyQghBB9vT+G9LUlcMcSF9+cPbck5v264G5/vTCW3ov60Wa6nWJkaUl7b1HK/rknNM7+e4PeYf4L81zeFt9T+HmBlQmW9igaV5oLHX9/enIi1qSH/N2egHIfv5dQaLd/sTWO4pw3hXbTwdkfrtz15fUVBewm19KW2Nam1PP3rcaxNDTt0GcQmtZYX1sfy3pYk5g5356MFw04rDrdwlCcCWHYws83ne9mbcTijjD3Jxdz83WFC/7P5tAAf5Gx52uIOA6x1bxQ55fUX1M4DqaXsSirmPllGuE/YHFdIdll9r+3FQz/uyevrKS1jtP3dd3vTCR5gyVh/h0t+rVc2xHE8p5LPbxyObQeNw5fWNHLv8qMcTi/j7km+PD0r+Iz0NXdbMy4f5MLS/RncOd7njAud/o4WrI7M5qZvT6+usXiMJ4HOlmeUmg510a0PEJtbib9T+8Zh1RotL/8Rh5uNaYfN4pW6jxCCr3an4m1vxozQ3juJrd8G+QHWJuRXXtyYa1/zyoZ4AH66YxQTAi4+l3vl4SyWHczi7km+XDa4Y9Yt3ZNczBO/xFBRp+KD+UPPupA6wKMzAvnzRD4Pr4pm2Z2jW7arNFqMDf/p9d81wYcnZgWds0BZ0ABLzIz0OZZVfs5jtrb0QCYnC6r5YvGIXpViJ7XtcHoZMTmVvHrNoF5diqLfBnl3GzO2JxZ1dzN6BDtzI8pqm7j5u8PcPdGPx2cGXnCd/MzSWv7v9zgmBDjw1KzgDmlXbkU9t35/BB8Hc769ZSSD3KzPum9RdQNv/nXyjO1RmWU8tzaWxMJqZg105v/mDMTF+swx+3/T11MY7mnLwbSydrU1u6yO97YkMTHQkVkDe165WenCfbcvHRszQ+YN77nFx9qj347Ju9uaUlzdSIOqR9VN6xY3R3gBMMTNmi92pbLo64PUNqrb/XwhBC+sj8VQX493rg+7qF5PWz+HI+llaLSCjxYMO2eA35FYxMz3d7M7uZiZoc7kVdTzxl8JPLTyGHM/P0B1g4qvbw7ny5vC2xXgT5kU6EhiYTV5Fecel9doBY//HAPAf68dJC+29gE55XVsiS9kwUjPXp+F13978na6P/bcinr8emHua0e6fbwP3+/LwMHCmA8XDOXR1dHcsyyKb24Jb1fN9bLaJvYkl/DwtACcrdpX/Ku+SUN0dgV7U4r5dEcqAH8/OvG0BUOOZZVjZqRP0IC2i8hptYJPdqTw/tYkgpwt+WTRcJ5aE0NaSS1f7tItJrJkoi8PTwto1xqx/zYl2JHXNyaw6OuDuFibIhAIoVv9xlBfwcrEEEsTA36OzAFgeogzJTVN2JoZXdTxpJ5j2cEsAG5q7gD1Zv32N9HdVjczMqusrt8HeSsTQ5ZM9OXtzYmEuFjx5nVDeOrX4zzxy3E+WnD26fharUBRwMJE92tkqH/6fkIIahrVlNY0kVlWR2ZpLWnFtRzLriAutxK1VqCvp2BmpE9dk4bY3MrTg3x2BUPcrc/6yeC5dSdYdSSba4e58d9rB2NqpM+qJREcSCvlnc2JnMit5FBaKfnh7vg7XXi1UX8nS164IoRNsQWotVoUFJr/Ud+koaiqkeSimpb9tyYUsjWhEICEV2b3+h5gf9Wg0rDqSBYzQwe0mY7b2/TbIB80wBJ9PYUj6WVM6cBc7t5qyURfssvq+GRHCrMGOnPfZD8+25nK9BAnrh565oXHhPwqFn9ziKoGVctkp3f+TmLl4WyEENSpNFTVq/j3SnymhvoMdrNmyURfwr1tGeFlh6WxAeGvb2VzXAHXNY9/Nqg0xOdVnbXe/66kYlYdyWbJRF+evSy45Y3IyECPSYGOTAxw4LfoPF7+I44rP97L85eHsHiM1wUPpdw5wZc7J7TdhtjcSuZ9sZ9QFys+XzyCkppG1kTl8P2+DFYczuKO8T4XdCypZ/gtOpeKOhW3jvPu7qZ0iH4b5K1MDBnhacvOxGKemt0xFwp7M0N9Pd64bjB+jha8vjEB0PVIH14VzaRAR2xaFf/SaAUPrzqGnp7CnRN8qWnQTfsGiPDTFfQyM9LHysQQK1MDbM2M8LI3x9veDEfLthfsWDTKk092pHA4vYxRPnacaO7p/3tRZCEE66Nzef3Pk/g5mvP4zMA2X09RFK4Z5sZYP3ueWHOcF3+LY29KCR/MH9YhPeyqBhX3Lo/CzsyIL28Kx9HSGGcrEwa6WpOQX8WXu1K5cbSnzLLpZYQQfNucUjzap3dOfvq3fhvkASYFOfL25kSKqhpwaudYcl+mKAp3TfSlXqXhx/0ZlDbPEB36yhZevWYQVw1xwcbMiJ2JRSQV1vDhgqEtvfzs8jqKqhp55/qwizr2qSGZ//wWy4YHx3OwuUTBqH/NMtydXMKjq2MY5GbF2/PCznvNwMnKhB9vG8lnO1N1w1H/2UTGm1dcVBtPEULwzK/HyavQFR9ztDw9J/+haQEs+voQqw5nces42ZvvTfamlJBUWMM714f1mQvo/Ta7BmBykC4nfFdScTe3pGd5aFoAUS/OYPeTU3BonlT04vpYJry1g692p/LB1mScrYy5vFUuvJedGVlldYiLnEX84bZkAE4WVPPfjSc5kFZKiIvVGROqDqaVYqCnsOaesYQ0T1g6l5zyOr7dm87ao7qLo1cPdb2o9rW27FAWG08U8OSsIEZ4nVl8LMLXnjG+dny8PYXqBtUlH0/qOt/uTcfBwpirwjpmnkdP0K+DfKiLFY6WxuyUQb5NnvZmHHl+Gouai2xVN6j578aTnMitpLCqkc1xBZwsqKJRrcHDzoyaRjVlrerDtJda88/M4+khTny3L539qaWM9z+zlnt0VgWhrlZnHQaprFex/WQh/9t0kjmf7GX8/3bw2p8JmBjq8/1tI/lwwbALbl9rjWoNrzVPHrvuLJOkFEXhuctDKK1t4otdqZd0PKnrpBRVszOxmJsjvNqVVdZb9OvhGkVRmDXQmV8ic3QLPMua32dQFIVX5gykql7FhuP5LduNDPR4YMWxM/ZPLa694P/Hwxn/TDiK8HNga8LZJ6nlV9Yz2N2G9JJa8ivryatoIK24huSiGpILq8ksq0MIXe34Ie7WPHNZMJcNGoCXfccs82hsoM+No734bl8649/awQ3h7iyZ4HdGHfsh7jZcM9SVr/ekM3e4e68sUdvffLs3A2MDvT5XOVS52I/XnSE8PFxERkZ26TFTiqqZ/t5uHp0eyMPTA7r02L1JfZOGkP9sark/yM0KS2NDDqTpxs7dbEypqlfhYWfGr/eObffFzZzyOu5fcYzEgio8bM3QCEGjSktu8wSkx2YE8uBU/5bx0env7SKlVdoi6AK6j4M5gc6WBA+wJNzbjqEeNp2awpheUstXu1P5NSoXjRBcOcSFeyf7ETzgnyGkoqoGpr23i1AXK1beNabXLBfXH5XVNhHxxjauG+7GG9cN6e7mXDBFUaKEEOFtPdave/Kgy4WeEuTI0gMZ3DnBR05iaYNKo+XhVbpeu6G+0rKW6qkAD6CnB3YWRsTnVxHyn02cfHX2OTNLNFrBb9G5vPRbHAJ49/qhNKg0PP6LbuboW/OGcDCtlPe2JHE0q5zXrhmEu60ZBnoKQc6WJBZWA/DxwmHMHjTggsswXCofB3PeuG4Ij0wP5Nu96Sw/mMlv0XlMDXbivsl+hHvb4WRlwnOXh/Ds2hMsP5TJTbJoWY+1/GAmjWott/fBC+X9ekz+lAenBVBa28R3e9O7uyk9zqkp+3/HF7JotGdLgL99nA8mhnqYGOrxwhUhBDhZUthqkY3gFzex4XjeGRdi65s0/HQgg2nv7uSxn2MIcLbgr4cncMUQF6aH/FPzZU6YK+9eH8Z/rgzlcHoZM97bzVe7U9FoBe62pmx/fBJuNqY8u/YE0dkVXfJ/0Rbn5kC+75mpPDYjkGNZ5cz74gA3fHGAHYlFzA/3YGKgI69uSOjWdkpn16jWsPRgJpMCHQlwvvBJcz1dvx+uOWXJ0kj2p5ay68nJcmy+mVYreGbtcX6OzOHp2cEUVjXww/6MlsctjA346+EJeNjpxqPrmzSsicrmxVaLa1uZGLDzySkUVTew+kg2647pJpqEedhw1wQfZg8cgEFzL/y9vxP5aHsKAI/PCOTBabrhs9yKev6zPpZtJ/8Zq0967TLKaptY9M1BiqoaWX7naML+lVPfHeqa1Kw+ks3Xu9PIq2wgxMWKRaM8+HxnKgL4/YHxZ6RcSt3r16gcHv8lhqW3j2Ji4MVXYe1O5xqukUG+WUpRNbM/2MOcMFfemz+0W9rQkwghePmPeH7Yn8FD0wJ4bEYgt/9whPzKBhLydWupvjV3CDeM9DjjuWqNlt9j8nisuWjXKUb6eswY6MytY70J97I9LQ85paiGyz7czRWDXVBpBH+eyOeuCT48NTu4ZShmf0oJi745BOhSIT9cMIyCygau/3I/VfVqVi0Z0660yq7QpNbyW3QuX+xKJbW4tmV7gJMFa+4de0nrx0od6/IP96DWatn8yMRemxt/riAvh2ua+TtZct9kP9Yey2WnLEHMh9uS+aF5AY5Hmy9IZ5fV4Wr9z6SxsxUO01MUThZUn7HdycqYl+cMZKS33Wl/TFqt4Pl1JzA11Of5K0J5b34YN0d48fWedBZ+dbClCuRYfwdGNc9CzK/QDQ0NsDZhxZ1jMDXU56ZvD5FaXHPGcbuDkYEe14d7sOXRSXyxeDhD3HVVNJOLagh7+W8K5FoGPUJKUTXx+VUsGuXZawP8+cgg38r9U/3xczTnubUnqKzrv5NYftyfwQdbk5k73J3nrwhBUXSraGWU1hKTU9my39d70tp8fkJBFV/tTsPXwZz194/jl3siAN1SeuGvbeWng5mn5cZ/vz+DQ+llPH9FCI6Wxhgb6PPK1YP4aOEw4vOrmPLOTl7/M56y2iaKqxsBmBryT70hDzszlt+lWyTkxq8PkV1W1+H/JxdLT09h9iAXfrt/HD/dMapl+33Lo7qxVdIpm2ILAJg9qO9Mfvo3GeRbMTbQ570bhlJU3cjz609c9OzN3qpBpeHZtcd56fc4pgU78ebcwS29m5SiGlQaQUlNIz4O5tw90ZeNJ/LbDKhBzpYMsDLBw86MoR42jPS2Y+/TU1pKF7y4PpbZH+5hW0IhSYXV/G/TSaaHOHND+OlDP3PCXNn8yESuCnPl273pTPjfdtJLdEMfEwJOX6rQz9GCn+4YTb1Kw6JvDva4nrKiKEwIcCTjzSt48cpQHpom03V7gk1xBQzztGGAdd8tayKD/L+Eedjw6IxANhzP5/0tSaf1OPsqIQT7U0u45tN9rDyczb2T/fjyphGnpSXG5v7Tg58Q4MCt47zRUxS+35dxxusZ6Otxfbg7u5OLW/Ld3W3NiHx+OkHN2QspRTXc8WMkM9/fTZNae9obSmsedma8c30Yfz86kfBWdWwM9M781Q1xseKH20aSXVbPmDe29dg36TvG+zBZVj7tdtlldcTmVjF7YO9dv7U9ZJBvwz2T/Lh2mBsfbU/h2s/2c7Kgqrub1Cm0WsGe5GLmf3WQRV8foryuie9vHcnTs4NbMl5OaV3fJ8LXHhdrU+aEubLicGabqYHXDnNDCNjeXF8dwNbciJ/uHHVGZUmA36Lz0Py7LnGzBpUGUyMDrhzyz0fqWR/sPu3nkldRz8fbknlwpS6f39rUsM+OsUodY3PcqaGavh3kZXbNOWw8kc+L62OpalCxZKIv903275LJUtUNKtQagVor0Gh1C2+U1DRSUtNIk1rLhADHS0rDyymv49eoXNYczSa7rB5nK2Pum+zP/JEebU5galJrGfHqFixMDMivbODXe8cywsuWouoG5n6+n9pGDWvuiTht6r4QgvH/28FAVyu+uvn0i/5ltU2MeG0L//7VszY15L/XDqawqoH9qaWkFFVTWtNE9VmWIpw3wh0PWzO2JBQQm6sL+GP97Jk/0oPLBrlgZCD7MNLZXf/FfmoaNfz18ITubsolkzNeL9Llg10Y7WPHa38m8OmOVH6JzOGp2cFcO8yt01ZvXxOVwxO/xJxzHz0Fxvk7cFWYK7MGDmh3Ol5hVQNvbEzgt5g8hNAFxMdmBHLZIJdzzk6NzCijulHNZYMH8HNkTssKUE6WJiy9fTTzPt/PTd8eZu19Y1uW/1MUhfH+DmyMzUcIcVqv+rUN8egpCp8sGkaYhw1vbTrJ+ug8KutV3L/iKKArkzDU0wZHC2McLIywtzDm+XUnTluEZE1UDooCwz1teXp2MJcP7rgaNVLfVlTdQGRmOY9MC+zupnQ6GeTPw97CmPfnD+WmCC9e/iOeJ36J4dMdKbx0VWiHjqsKIXj37yQ+2aGbDLRkoi8edmboK7rl8RwsjHGwNEKtEWyKLeD3mDyeWnOcF9bFMsTdGgEM9bDh4ekBWJmcHvQr61WsOpzFx9tTaFJruXuiHzeO9myZxHQ2BZUN7Eku5sk1xwFYH50HgG2rBUR8HMz5/raRLPjqILd8d5jVd0e0vOlYmRqg0mjPGDbxc7JAoxV42Zvz2c4U/mrOcGgtt6KeLxaPYHBz6mFNo5p3/05iYqADoS5WbI4r4Jax3oz2sZeTi6QLtiW+ECFg1iDn8+/cy13ScI2iKK8CVwNaoAi4VQiR1/zYs8AdgAZ4SAix+Xyv19OGa/5NqxVsOJHPQyuPMT3EiW9uGdkhr6vWaHl+XSyrI7NZMNKDV64edN6hBt3F0lLu+PEIDap/Lg4vu2M04wMcUGu0HM4o4+cj2fwVW0CjWsvkIEf+76qBeDucvbebUVLL6sjs5syX03POp4c4MWeoG3PCzqzJvie5mNt/OMIwT1uW3j4KE0N9nl5znB2JRRx+fvpp+54sqGL2B3sAXXGx68M9uG2cN4HOluRW1DPlnZ00qXXndO0wN1xtTFh6IJPqBjUfLRzW5vEl6ULc9v1hUotr2fXk5D5x7aYzh2veFkK82HyQh4D/APcoihIKLAAGAq7AVkVRAoUQmks8XrfS01NoVOlO4cYxHbOKe1ltE4+sjmZ3UjEPTfXn0RltL2f3b4fTy7j7pygaVFpCXaxYOMqDMb72bE0o4r0ticTlVdGo1mJpYsD14e7MD/ds6RX/mxCCzXGF/HQwg30ppejrKUT42jNvhDs2ZkY8teY4r10ziMVjvKhuULEpNp8h7ja4tlrkeEKAI+9cH8bDq6K58ZtDfDB/KIXVDdj9a9GP6gYV//vrZMv9DQ+NP61yo5uNKUmvXcbPkdk8teY4647lAjBroDP3TPJjmOeZi3RI0oWoa1KzL7WUxaMvfM3f3uiSgrwQonXaiTlw6mPB1cAqIUQjkK4oSgowCjhwKcfrCVYezsLfyYLJHVDjIjKjjAdWHKOsrok3rhvMwlHtr2P93b50ahrVLLtjNOP87RECHv8lhnXHchnmacPiMV4M87RhWrDzOUvuxuZW8vIfcRzJKMfNxpQnZgZyfbhHy9j6//0eh5GBHmN87Vl2MJN3/06kvNVEMXtzI4Z52uJtb4adhRETAhzYk1zChLd2ADC/Ve57Zmktd/4YSXpJLZMCHdmVVMzJ/OrTgvwpxv/6JLM5rpD5bZRQkKQLtSe5hCa1lukh/SON9ZLH5BVFeR24GagEpjRvdgMOttotp3lbr5ZWXMPRrAqevSz4knoADSoNH29P5otdabjbmrL23rEMcmu7l302d03wZUt8IV/uTmWkjy2H08tYdyyXh6YF8Oj0gPO2r1Gt4X9/JfL9/nTszIx447rB3BDucdoFZa1WtBQkm/7erjZfp7S2ia2t0iT/bXVkNuV1TUT42bcs8bf0jlGM8bFn0js7+CMmj2tarbAkhODDbcl8sDWZ0T52fLJoOPO/PEBaSS23/xDJhAAHnp4dfMH/X5IEuqHRZQczsTQxYGQfWaj7fM4b5BVF2Qq0lUj6vBDiNyHE88DzzWPwDwAvAW1FmDYH/xVFWQIsAfD07Nkrspy6QHjtWZZ9a48jGWU8/etx0oprmTfCnf9cFXrGhdL2CPe2483rhvDUr8d5bHUMnvZm6Osp3D3R97wBPrusjvtXHOV4TiU3R3jx+MygNjN00krOXgfmi8XDGeRmzeoj2XzcXDnybP6OL+Tv+EJ8HMz54baRLRkwkwOd+PVoDk1qLUYGemi0gufWnmB1ZDZzh7vzxnWDMTLQY/sTk/l4WzLvbkliT3IJe5L3MinQkfun+LfUspGk8xFC8OJvcexJLuHVawZ1+RoE3eW8QV4IMf18+zRbAfyJLsjnAK0/W7sDeWd5/a+Ar0B34bWdx+oWsbmVeNub4WR14VOgs8vq+N+mk2w4no+7rWmHlDW9YaQHVQ0qXvszAQB3W9Pz5vEfyyrn1u+PoBWCL28awaw2ZvvlV9bzwZZk1hzVpSi2dW3+nmVHW25725txc4Q388LdsTIxZG9yCYu/PcR9k/2YEerMQ6uOkV1WT1FVA8sOZjLO3wFLEwMGWJtQ16QhOruCYZ42PLo6mg3H89u8NnHdCHfe3ZLEU7ODEAK+25vODV8eYKS3LfdN9mdykGO/GF+VLt5H21JYeTiL+yb7cVMHXVPrDS5puEZRlAAhRHLz3TnAqStqvwMrFEV5D92F1wDg8KUcqyeIy6tikNuFlbItrWnky91p/LAvAz09eGhaAHdP9O2wSVV3TvBlR2IR+1JKySmv50BqKRF+Zy6ADbpPEbd9fwR7CyN+un30GeuSarSCnw5k8PbmRFQawfyRHsTlVhKTU8mTs4IwMdTn1eZFrFsLdbXCx9EcEwN9ssvqeHDlUQKdLbh/im7y2PbHJ7MrsZhforL5fl8GX+85fXGWgqoGXvo9jg3H83nu8mCWTPQ74xiu1iZYmRiQW17P69cO5vZxPvwcmc2Xu1K57YcjhLhY8fC0AGYNdJbBXjrD6iNZvL81ibnD3XlyVlB3N6dLXWqkeVNRlCB0KZSZwD0AQog4RVF+BuIBNXB/b8+sySipJausjpsj2tcDKKlp5OvdaSw9kEmDWsN1w9x5YlYgLtam53/yBSivbSKxoAZDfQUXa1MWfn2QhaM8eGZ2CNZm/wzBJBVWc8t3h1tK8/67IFNRdQP3/BTF0awKJgY68sTMQF77M4GYnMqWzBqA+SM9GPSSLht262OTWHk4izVROWw8UXDa0oCf3ji85Y3MUF+P6aHOTA91pqy2ifSSGtYezWX5oSxAd61jTWQON472bDPAg25ylbeDOTnlulo4pkb63DLWm4WjPPktOpfPd6Vyz7IoRnjZ8tzlwYzwksM4kq7j8uG2ZD7ensykQMez1kjqyy41u2buOR57HXj9Ul6/J/nzRD4Alw0+e0lSIQRRmeUsP5TFnyfyUWu0zAlz5YGpAfg7WZz1eRerukHFrT8cobK+iXX3jcPX0Zz3tyTx3b4MtsQX8tXN4Qz3tKVBpeGBFUcxM9Jn5V1jWjJnTkktruGW7w5TWtPEB/OHEuxiyT0/RZFX0cCHC4Zy9dB/rkFYGBswJ8yV6OwK/J0sePHKUJ6aHcTupBLuWvrPHIdFXx/C1dqEMA8bApwtCXS2IMTFCj9HC9RaM/6KLcDTzoyssjpWHMqiSaPl1rHe5zxfZysTskpPr3p5qm77tcPc+CUqh/e2JDH38wM8f3kId030vfT/ZKnXKq1p5OFV0exNKWHucHde60fj8K3JGa/nsS+lhOTCat7enAjoVicSQHWDmqp6FVUNKvIq6skqqye7rI6aRjUWxgYsGOnBLWO98XPs+OAOuhmgt31/hLjcSj5fPKIl2+T5K0K5eqgbV368lxWHshjuacsbGxNIKqzhx9tHnRHgU4qqmffFAfQVhReuDGFzXAGP/hyNrZkRK+4afVrlx1PyK+txafVJwEhfj/2pJbrjXx7CGF97IjPLiMwsJz6vik1xBS3j+jEvzeSZX09Q26jmf3OHcNfSSIqqG7l88IDzrq/pYGHEsayKNh8z0Ndj4ShPrh7qymOrY3hz00mGuFsz2rftoSupb4vKLOP+5br05P/N1WWO9bce/CkyyJ+FEILPdqa2BPdTTk3xP8XC2AAXaxM87cwY7WPHQFcrLh/s0qmFzFKLa7jnpyjSSmr5eOEwZoSePjX71CQlP0cLEguq+elgJrdEeDHpXxd6i6sbueW7I1TUqXC3NeX5dbFYmhjwwBR/bh3r3eZat0IIUopqmBmqu2Bb06jmyV9i+Cu2gFvHenPnBB8URWGwuzW3jfMBdCmj3+1L561NibywPpbtJ4t46apQJgU6Mm+EOxMDHbnyHJ+QTlFrBEb65/5DNTMy4O3rhzDnk308uPIYGx+egINcs7ffqGtS88WuND7bkYKbrSnr7hvLQNf+nW4rg3wb1BotL/0ex/JDWVwz1BVLE0N+OpjJ+vvHYd88g9PKxBALE4NOK1TWFiEEG08U8MyvxzE00OPTRcMZ7G5NYkE1Nc2VGlv3qoNdLHnzrwTMjQ14ZHoglfUqskrryCitJTa3ki93/7Oyk0YreHp2MIvHeGJ5jpTOkpomyutUBA2w5GRBFQ+uOEZqcQ0vXBHCHeN92uwtmRjqs3CkJ29tSuSPmDzG+NpxS4Q3enoK71wf1u7zb2xOtTwfSxNDPl00nGs/28cjq6L58fZRXfpzkrqeRitYezSHtzcnUlTdyNVDXXnl6kFyLV1kkD9DfZOGB1ceZWtCEfdO9uPJmUFc+fFeRnnbtVkHvauU1DQS/trWfzY0wj3Lzr2E3G3fH2m5PezVLWfd77MbhzMz1PmMGvJtOVWB8r8bExCAjakhP90xmnH+Dud8nm2r8gYvXBGK3kUE3ezyunav4BPqasXLcwbyzNoTfLErlfun+F/w8aSer0mtZd2xHD7fmUpGaR1hHjZ8vni4vPDeigzyrWSU1PLI6mhicip45eqB3BzhTYNKQ2JhNfdM6t6LeCfz/1kYO8LXHn8nCzztzLAyNWBLfNE5Z522xUhfjx9vH3XWdMu2lNQ0sqI5I0atFSwY6cHTs4NPC+BnU17b1HI7+CwLgJ+LVitIKqhm3gj3dj9n/kgPdiYW88n2FOaNcD/jeoTUe5XUNLL6SDbLDmaSX9nAIDcrvlg8nJmhAy6qA9GXySCP7kLie38nse5YLob6enyx+J9JQkmF1Wi0otvH9cYHOJDx5hWnbRNC8PbmRLYmFOJkacx4fwe2nSyisl7FrIHOGOrrcSi9jMPPTUNRFFQaLanFNcRkVxDh63BGnvy5bEso5L7lR2lsrg7pZW/Gm3OHtPv5K49ktdxOKa5ps17NuSQX1VDbpCHEpf3PUxSF5y4PYdvJQt7ZnMjbFzA0JPU8QgiisytYeiCTP4/n06TRMt7fgTeuG8ykQDkZ7mz6fZDPLK1l0ts7W+6/OXcQM1tdyIzL09VgG+h6YUGpK7z7dxKf7UwFoKi6kd9j8pg1aICuVrytGdPe3cV1w91afvkN9fUIHmB1wQG2ukHFAyuOETTAkvduGMpVH+9lRkj763CrNVq+aZ4AZW1qiLtt+99cTlkfnYu+nsL00Aur/+1pb8Zt43z4ancaSUU1fHXTCNmj72UaVBo2HM9n6YEMjudUYmFswKLRniwe49Upqcl9Tb8P8g4Wxiwc5UFVvZrDGWU88UsMX+1O5dnLQ5gS5ERcXiWWxgZ4XERg6ky7kopbFhixMzfCz9Gcga7WVNareP3PBDJL69DTg4enB1zysfSa3yQGu1kzwNqEepUGJ6v2Z6wk5FdT1jxc88rVA7G4wMyj+iYNv0blMCnQ8aIyZZ6aFYSeovDFrlRG/3cbh5+bdlGlKaSulVNex7KDWaw+kkV5nQp/JwtevXog1w53v+Dfof6s3/9PmRsb8MZ1umGHRrWGDTH5fLojhdu+P8K0YCeO51YS7GLZ5jhfRV0TyUU1VNapqG1SU9+kobZJQ12jmtomDQ0qDTZmhjhbmeBsZYyHrRm+jhYdkumhUv+zUEh1g4ojGeUcySjH1doEf2dLwjxsmBnq3CEzbM2NDZgR6syfJ/K5OcIb4IJWY3p4lW5x7YWjPE6bWNVeq45kUVTdyJKLnNxkoK/HM5cFk1dRz+8xeSz8+iDr7h93UYXhpM4lhGBfSik/HshgW/N1ppmhA7h5rBcRvvZySOYi9Psg35qxgT5zR7hzVZgrP+xP58OtydQ2aSiubgSgsk7FH8fz2JZQyMmCavIrG876Wkb6ehgb6J2xCLWJoW7IZKiHDVcMcWGEp+0FXShKLKjm+33pLYtp+DmaMznIiclBjgz1sDln+uOlmD/Sg99j8vhil2546KNtKeSU1TMx0JHBbtZnPYf9KSWkldQC8NSs4Is6dmlNE3oKjLnEiU0fLRzGwlGe3PTtIR5eeYxvbhkpUyt7iOoGFb9G5bD0YCZpxbXYmxtx72Q/Fo32ws2mY0uB9DeXtPxfR+tpy//lV9YT8cZ2ACYFOnIgrZQmtRZfB3OGuFsT7GJFkLMl9hZGmBkZYG6sj5mRAWZG+i3Tp5vUWkpqGimoaiC9uJa4vCri8iqJyamgQaXFzcaUa4e5ces473MORZTUNPLGxpP8ejQHE0M9rh3m3rJkXle5f/lRtsQX8uzlwaw/lktMTiWgKx72wNQArg93P23aeGZpLdd/cYCi5jfJ9Dcuv6ie2HtbkvhoW/JFP//flh3M5IX1sYzxtePVqwedd6at1HkS8qtYfiiTdUdzqW3SMNTDhlvGenH5YBeMDc6+2I10unMt/yeD/Hlc+9k+jmVV4GhpzOWDBjBvhAeD3KwuOdjUNKrZEl/A+mN57EkuxsRQV3Dr7om+2LRaKFsIwYrDWfzvr5PUqzTcOcGXJRN825W22NGKqxuZ+f4uLEwM+PnuCIz09diTXMLSAxkczarA086Mx2cGMifMlczSOhZ+fZAGlQY/RwvSS2qJenHGRR330dXRbIotIP6VWR32cX3V4Sze+OsktY1q7pjgw8PTAjAzkh9su0KDSsOfx/NZfiiTo1kVGBnocdUQV26O8CKsG+ei9GYyyF+CF9fHsv5YLsf/b2anjQemFNXw4bZkNhzPw87MiA8XDGN8gAMNKg3P/Hqc9dF5jPWz55WrB3V7NkF0dgWLvzmEo6Uxq5boip0JIdiZWMw7f+vWlg11sSKlqAZzY32W3zmGb/akcTijjL1PT73g4+VW1DPprR0sHuPF/80Z2KHnUlrTyJt/neSXqBxCXaz49tbwDq8SKv0jpaiaFYey+fVoDpX1KnwdzFk02pO5w927pdPSl3TmQt59XoCzBdWNanLK6/Gw65wMG38nCz5eOIx7J/nx8Kpj3PTdIe6e6Mf+1BKON9dyv2+yX4+46DTUw4Yfbx/Jzd8eZu7n+/npjtH4OJgzJdiJiYGOfLYjhXe3JAHw2KRAQl2t0AhxUWPfWq3g2bUn0NNTOqWipL2FMW9fH8blg114YMVRrvl0H9/eMlIuLdiBSmsa+SMmj3XNw3uG+gozB+rSfOWF1K7R/+puXqAJAbqiXr9F53b6sUJdrfjtgXFcHebKF7tSOZ5TyaeLhnP/FP8e9ccwwsuOlUvGUNekYd7n+4nN1Y3N6+splLaa2frWppMsPZCBRivQv4j2f7Yzhd1Jxbx0VWinXnybEuzEmnvHoq8oXP/FAbbEX9jsYel0DSoNG0/kc+ePRxj932383x/xqDSCF64IYf8z0/h00XDG+jn0qN/pvkwO17TDjd8cJKOkjt1PTemSbAwhBA+viiarrI5f7x3bYzNA0oprWPzNIazNjPjr4QnEZFdw9af7uHWsN0/OCuLhVcfYmlAE6LKAtj0+ud2vve5YDo//HMNVYa58MH9olwSEouoG7loaxfGcCp67LKSloqZ0fkIIIjPLWXs0lw3H86huUONsZcw1Q924drjbBU/Aky6MHK65RDeO9uK+5Uf580Q+c8JcO/14iqLw0cJhnX6cS+XraMFdE315+Y94UopqeGvzSezNjXhiVhDmxgZ8eVM4L/8Rx9IDmaQW1yKEaFfQXHk4i+fWnSDC1543ruu6lXycLE1YvWQMj/8cw+sbE0grqeGVq/vnQhPtIYQgNreKDSfy2Hgin+yyesyM9Jk9cADXDndjrJ9Dj+2g9CeyJ98OGq3gio/2UK/SsOXRSe0qd9tfFFY1MPq/21ruv3hlKHeM92m5L4TA59mNgC7Vct8zU88atFUaLe/+ncQXu1KZEuTI54tHYGLY9Wl0Wq3g3S2JfLojlXH+9ny2aMRpSyn2Z20FdgM9hXH+Dlw91JVZAwd06loKUttkdk0H2HGyiNt+OMITMwN5YOqllwroS4a+8jcVdSoWj/Hk/64aeEbJ4tZlkh0sjIl8YfoZr5FXUc9DK48RmVnOwlGevDxnYLe/ma6JyuHZtcfxtDPju1tH4mVv3q3t6S6Nag2H0srYkairdto6sF8xxIWZoc6npf1KXU8O13SAyUGOXDHEhXf+TsLK1LBler8Ez14WjJmRAVedZSjLwcKYk6/OJvjFTdiZn94jrmlU89WuVL7ek46ewhlrynaneSPc8bA15e5lUVzz6T6+ujmckW0sh9jXqDVaYvOqOJhWysG0Ug6nl1HXpMHYQI+xfvY8ODVABvZeRPbkL0CTWst9y4+yNaGQV68ZxE1jvLq7Sb1WSU0jP0dm893edEpqmrhyiAtPzQq+oPLHXSWjpJbbfzhCfmUDq5aM6XMTdhrVGuLyqjicXsbBtFKOpJdR26QBdOm9Eb72TA12YoyvPaZGchZqTySHazpQo1rDfcuOsu1kEXdN8OGZy0LkxaV2Kq5u5GBaKZvjCtgcV4BKIxjnb8+Ts4K7ddWt9iiqbuC6z/ZT36Rh7X1je+3QjRCCvMoGojLLOZpZzrHsChLyqmjS6AreBThZMMbXnjG+9ozysbugQnRS95FBvoOpNFpe3RDP0gOZTAly5MOFw2RFw7MQQvB7TB6f7UglsVC3upW1qSFzh7uzaLRnt8/gvRCpxTXM/Xw/1qaG/Hrv2F6xQLhKoyU+r4qozHKissqJyiinoEpXWM/UUJ8h7tYM9bRhmIcNI7xkUO+tZJDvJMsPZfLSb3F4O5jzzc3heDv0zt5dZzmWVc5rfyYQlVlOiIsVc8JcifCzZ5CrVbvWk+2JojLLWfT1QYIHWLJyyZgeU++mvklDWkkNqcW1pBXXkFZcS2pxDanFNTSodL10NxtTRnjZtnwFD7DstT8H6XQyyHeiA6ml3Ls8CiHg65vDGeXT9y/MnYsQgoNpZXy2M4U9ySU4WBjz1Kwg5o5w7zPDWn/HFXDPsigmBTry9c3hXRooG1QaEvKriM2rIqWwmrSSWlKLashrVfZaUcDd1hRfBwv8nSwY7mnLcC8bWZenD5NBvpNlldZx2w+HKapqZM29Ywm6iIWqu9LJgio2xRYwLdiZwe4dU6eloLKBDcfzWB+dS2xuFQ4Wxtw5wYfFY7z65Co+yw9l8vy6WOaHe/Dm3M6ZsNWk1pJYUM3x3ApO5FRyPKeSpMJq1Frd36yFsQG+jub4OVrg62COr6MFfk7meNubd8v8Aqn7yCDfBfIq6rn2s33oKwq/3je2x/aaNsUW8NjP0dQ1Z08McbfmisEuRPjZM9DVut297QaVhujsCg6mlbI/pZQjmWUIoVsi8IaRHlw/wr3PB5p3/07k4+0pPDwtgEdnBF7y66k1Wo7nVnIgtZQDqaVEZpa1DLXYmBky2M2aIe7WDHazYbC7Na7WJrLsggTIIN9l4vIqmf/lQcyN9fnqpvAelWonhODj7Sm8tyWJMA8b3r0+jH0pJaw8nMXJAt0FUUsTA4Z62OBua4q7rRku1iboKQoqjRa1VlBS3UhyUQ3JRTWkFtXQpNGiKBDqYsWMUGfmhLni69h7LqReKiEET645zpqoHN64bjALR3le0PM1WkFCfhX7U0s4kKrLRz+Vuhg8wJIIP3vCvewY4m6Nu62pDOjSWckg34VOFlRx54+RFFU38vKcgcwd7t7tMzfrmzQ8uSaGDcfzuXaYG29cN/i0XnZRVQMH0nS9x/j8KnLL60+rJtmau60pAU4WBA6wZKSXHSN97LA27b+ZRSqNljt/jGRPcjGfLhrOZYNdzrqvEIKkwpqWoH4wrZSqBt3ykL6O5oz1syfC14ExvnbY94LMHannkEG+i5XWNHLf8qMcSi/D0dKYBSM9mD/SA3fbrp3oU1LTyLKDmSw7mElpbRNPzw7m7om+7eoR1jWpKWi+mGeor4eBvoK1qWGPySbpSWob1dz4zSFicip4YuY/tf9PS1/MLOdgWmnLm6eHnSljfR2I8LMnws8eZyuTbj4LqTeTQb4baLSC3UnFLDuYyfbEIoQAJ0tjBrpaMdDVGg87U5ytTBhgbYKvg0WH9fbVGi37UktZdzSHjScKaNJomRLkyL2T/ft95k9nqm/S8NSvx/kjJg+AUd52HM+taBlTd7U2YbSvLqBH+Np32gI0Uv8ka9d0A309hSnBTkwJdiK7rI6/4wuJy6skLreK3cklaLT/vLlaGhswMdCRCQEO+DlZ4G1vjoOFUbt73IkF1cTmVnIit5IdicUUVzdiZWLADSPduXWsT6+acNRbmRrp89GCoRjqK6w9mktuRT0LR3m25KT31AvxUt8ne/LdoEmtpbCqgaLqBnLK6zmYVsq2hCKKqhtb9jEz0sfc2AB9RUFfT0FRdG8c+orudm2jhvK6JhrV2pbn2JoZMsrHjmuGujE1xEmudi9J/YTsyfcwRgZ6eNiZ4WFnxggvuHqoG1qtIKusjozSWjJKasksq6NBpUGjFWiFrsa5Rvxz29xYHxszI2zMDPF1sJApdZIktalDgryiKE8AbwOOQoiS5m3PAncAGuAhIcTmjjhWX6Wnp+DtYK4rjRDU3a2RJKmvuOQgryiKBzADyGq1LRRYAAwEXIGtiqIECiE0l3o8SZIkqf06IqXjfeApoPXg/tXAKiFEoxAiHUgBRnXAsSRJkqQLcElBXlGUOUCuECLmXw+5Admt7uc0b2vrNZYoihKpKEpkcXHxpTRHkiRJ+pfzDtcoirIVGNDGQ88DzwEz23paG9vaTOMRQnwFfAW67JrztUeSJElqv/MGeSHEmasuA4qiDAZ8gJjmjA534KiiKKPQ9dw9Wu3uDuRdcmslSZKkC3LRwzVCiBNCCCchhLcQwhtdYB8uhCgAfgcWKIpirCiKDxAAHO6QFkuSJEnt1il58kKIOEVRfgbiATVwv8yskSRJ6nodFuSbe/Ot778OvN5Rry9JkiRduB5V1kBRlGIgsx27OgAlndyc7tBXzwvkufVGffW8oO+dm5cQwrGtB3pUkG8vRVEiz1anoTfrq+cF8tx6o756XtC3z+3f5FLtkiRJfZgM8pIkSX1Ybw3yX3V3AzpJXz0vkOfWG/XV84K+fW6n6ZVj8pIkSVL79NaevCRJktQOvSrIK4oyW1GUREVRUhRFeaa723MpFEX5TlGUIkVRYltts1MUZYuiKMnN3227s40XQ1EUD0VRdiiKkqAoSpyiKA83b+8L52aiKMphRVFims/t5ebtvf7cABRF0VcU5ZiiKBua7/eV88pQFOWEoijRiqJENm/rE+fWHr0myCuKog98ClwGhAILm+vW91Y/ALP/te0ZYJsQIgDY1ny/t1EDjwshQoAxwP3NP6e+cG6NwFQhRBgwFJitKMoY+sa5ATwMJLS631fOC2CKEGJoq7TJvnRu59Rrgjy6evQpQog0IUQTsApd3fpeSQixGyj71+argR+bb/8IXNOVbeoIQoh8IcTR5tvV6IKGG33j3IQQoqb5rmHzl6APnJuiKO7AFcA3rTb3+vM6h758bqfpTUG+3TXqezFnIUQ+6IIl4NTN7bkkiqJ4A8OAQ/SRc2se0ogGioAtQoi+cm4foFv8R9tqW184L9C9Ef+tKEqUoihLmrf1lXM7r960kHe7a9RL3U9RFAvgV+ARIURVX1lgvLnQ3lBFUWyAdYqiDOrmJl0yRVGuBIqEEFGKokzu5uZ0hnFCiDxFUZyALYqinOzuBnWl3tST7w816gsVRXEBaP5e1M3tuSiKohiiC/DLhRBrmzf3iXM7RQhRAexEd12lt5/bOGCOoigZ6IZBpyqKsozef14ACCHymr8XAevQDf32iXNrj94U5I8AAYqi+CiKYoRuofDfu7lNHe134Jbm27cAv3VjWy6KouuyfwskCCHea/VQXzg3x+YePIqimALTgZP08nMTQjwrhHBvriS7ANguhFhMLz8vAEVRzBVFsTx1G91KdrH0gXNrr141GUpRlMvRjR3qA981lzPulRRFWQlMRlcNrxB4CVgP/Ax4AlnA9UKIf1+c7dEURRkP7AFO8M/47nPoxuV7+7kNQXeRTh9dB+lnIcQriqLY08vP7ZTm4ZonhBBX9oXzUhTFF13vHXTD0yuEEK/3hXNrr14V5CVJkqQL05uGayRJkqQLJIO8JElSHyaDvCRJUh8mg7wkSVIfJoO8JElSHyaDvCRJUh8mg7wkSVIfJoO8JElSH/b/4jJJxJJkSH8AAAAASUVORK5CYII=",
>>>>>>> Stashed changes
      "text/plain": [
       "(array([[ 0.00000e+00,  0.00000e+00, -6.42000e-04],\n",
       "        [ 0.00000e+00,  0.00000e+00, -5.38000e-04],\n",
       "        [ 1.10030e-02, -9.62000e-04, -2.38200e-03],\n",
       "        ...,\n",
       "        [ 6.25700e-01,  3.90300e-03,  1.37640e-02],\n",
       "        [ 1.06504e-01, -1.09000e-04, -1.67310e-02],\n",
       "        [ 0.00000e+00,  0.00000e+00, -6.62000e-04]]),\n",
       " array([[ 1.900000e+01,  1.660000e+02, -2.459689e+00,  2.411110e-01,\n",
       "          2.528000e-01],\n",
       "        [ 1.900000e+01,  1.720000e+02,  1.067903e+00,  9.157860e-01,\n",
       "          1.494700e-01],\n",
       "        [ 2.500000e+01,  1.720000e+02, -2.539634e+00,  8.526300e-01,\n",
       "         -2.986000e-02],\n",
       "        ...,\n",
       "        [ 1.147000e+03,  1.188000e+03, -2.232188e+00,  1.139820e-01,\n",
       "          2.992915e+00],\n",
       "        [ 1.150000e+03,  1.188000e+03, -7.893020e-01,  2.834301e+00,\n",
       "          1.697150e+00],\n",
       "        [ 1.158000e+03,  1.175000e+03,  5.868550e-01, -2.497670e-01,\n",
       "          2.829060e+00]]))"
      ]
     },
     "execution_count": 42,
     "metadata": {},
     "output_type": "execute_result"
    }
   ],
   "source": [
    "lec_don(\"INTEL.txt\")"
   ]
  },
  {
   "cell_type": "code",
   "execution_count": null,
   "metadata": {},
   "outputs": [],
   "source": []
  }
 ],
 "metadata": {
  "interpreter": {
   "hash": "23a6b913c5c0dcb48130fb95bc8c7b084c5a812df45cbb14e417b737a9d4ee46"
  },
  "kernelspec": {
   "display_name": "Python 3.9.5 ('base')",
   "language": "python",
   "name": "python3"
  },
  "language_info": {
   "codemirror_mode": {
    "name": "ipython",
    "version": 3
   },
   "file_extension": ".py",
   "mimetype": "text/x-python",
   "name": "python",
   "nbconvert_exporter": "python",
   "pygments_lexer": "ipython3",
   "version": "3.9.10"
  },
  "orig_nbformat": 4
 },
 "nbformat": 4,
 "nbformat_minor": 2
}
