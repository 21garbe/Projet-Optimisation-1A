{
 "cells": [
  {
   "cell_type": "markdown",
   "metadata": {},
   "source": [
    "# <center> **Compte-rendu projet Optimisation**\n",
    "<div align = right> Camille Dubois & Florian Garbe"
   ]
  },
  {
   "cell_type": "markdown",
   "metadata": {},
   "source": [
    "On pose la fonction suivante à minimiser :\n",
    "$$\n",
    "\\begin{align*}\n",
    " f: p= \\left(\\begin{matrix} p_1 \\\\ \\vdots\\\\ p_N \\end{matrix}\\right) \\longrightarrow \\sum_{i=0}^{N-1} \\|p_{i+1}-R_i\\Delta p_{i,i+1} -p_i \\|_2^2 + \\gamma \\sum_{i, j \\in L}\\|p_j - R_i\\Delta p_{i,j}-p_i\\|_2^2\n",
    " \\\\\n",
    " c_1(p) = p_{,3} - \\pi = \\theta_i - \\pi \\leq 0 \\\\\n",
    " c_2(p) = p_{,3} + \\pi = \\theta_i + \\pi \\leq 0\n",
    " \\end{align*}\n",
    "$$\n",
    "\n"
   ]
  },
  {
   "cell_type": "markdown",
   "metadata": {},
   "source": [
    "Ainsi les variables de décisions sont $p = \\left(\\begin{matrix} p_1 \\\\ \\vdots \\\\ p_N\\end{matrix}\\right) \\in \\mathbb{M}_{3, N} $ au nombre de $3N$."
   ]
  },
  {
   "cell_type": "markdown",
   "metadata": {},
   "source": [
    "---"
   ]
  },
  {
   "cell_type": "markdown",
   "metadata": {},
   "source": []
  },
  {
   "cell_type": "markdown",
   "metadata": {},
   "source": [
    "---"
   ]
  },
  {
   "cell_type": "markdown",
   "metadata": {},
   "source": [
    "### Question 3.\n",
    "&ensp;&ensp;&ensp; On réalise la fonction permettant de lire les données du fichier INTEL.txt qui contient 1227 lignes ODO, donc 3 681 incconues sont liées à ce jeu de données."
   ]
  },
  {
   "cell_type": "code",
   "execution_count": 87,
   "metadata": {},
   "outputs": [],
   "source": [
    "# on importe les modules nécessaires\n",
    "import numpy as np\n",
    "from casadi import *\n",
    "import time\n",
    "import matplotlib.pyplot as plt"
   ]
  },
  {
   "cell_type": "code",
   "execution_count": 41,
   "metadata": {},
   "outputs": [],
   "source": [
    "def lec_don(f:str):\n",
    "    \"\"\" Cette fonction retourne les deltap_i,i+1 associé au mesures d'odométrie\n",
    "        ainsi que les deltap_i,j associé au mesures de fermetures\n",
    "        \n",
    "        return a tuple of array. \n",
    "            - The first array is the deltap_i,i+1 linked to the odométrie sorted\n",
    "            in rising order.\n",
    "            \n",
    "            - The second one is linked to the closing sorted as well in rising\n",
    "            order.\n",
    "            \n",
    "        parameters :\n",
    "            - The file that contains the data\"\"\"\n",
    "\n",
    "    ODO = np.zeros((1227, 3)) # l'array d'odométrie\n",
    "    LOOP = np.zeros((256, 5)) # L'array de fermeture\n",
    "    num_line = 0 # Le numéro de la ligne en cours\n",
    "    \n",
    "    with open(f) as file:\n",
    "        for line in file:\n",
    "            type, p1, p2, dx, dy, dtheta = line.split(' ')\n",
    "            if type == \"EDGE_ODO\":\n",
    "                ODO[num_line] = [float(dx), float(dy), float(dtheta)]\n",
    "            if type == \"EDGE_LOOP\":\n",
    "                #print(num_line -1227, type)\n",
    "                LOOP[num_line - 1227] = [int(p1), int(p2), float(dx), float(dy), float(dtheta)]\n",
    "            \n",
    "            num_line +=1\n",
    "\n",
    "    return (ODO, LOOP)\n",
    "\n"
   ]
  },
  {
   "cell_type": "code",
   "execution_count": 72,
   "metadata": {},
   "outputs": [],
   "source": [
    "ODO, LOOP = lec_don(\"INTEL.txt\")\n",
    "# Attention ODO est constitué sur la i-ème ligne des informations de \n",
    "# Deltap_i,i+1, tandis que LOOP contient sur chaque les lignes les\n",
    "# les informations i, j pour identifier le Deltap_i,j et les infos associées"
   ]
  },
  {
   "cell_type": "markdown",
   "metadata": {},
   "source": [
    "---"
   ]
  },
  {
   "cell_type": "markdown",
   "metadata": {},
   "source": [
    "&ensp; Il est nécessaire de définir dans un premier temps la fonction f à minimiser : on utilise pour cela le module <code>casadi"
   ]
  },
  {
   "cell_type": "code",
   "execution_count": 99,
   "metadata": {},
   "outputs": [
    {
     "name": "stdout",
     "output_type": "stream",
     "text": [
      "This is Ipopt version 3.12.3, running with linear solver mumps.\n",
      "NOTE: Other linear solvers might be more efficient (see Ipopt documentation).\n",
      "\n",
      "Number of nonzeros in equality constraint Jacobian...:        0\n",
      "Number of nonzeros in inequality constraint Jacobian.:        2\n",
      "Number of nonzeros in Lagrangian Hessian.............:    13495\n",
      "\n",
      "Total number of variables............................:     3681\n",
      "                     variables with only lower bounds:        0\n",
      "                variables with lower and upper bounds:        0\n",
      "                     variables with only upper bounds:        0\n",
      "Total number of equality constraints.................:        0\n",
      "Total number of inequality constraints...............:        2\n",
      "        inequality constraints with only lower bounds:        0\n",
      "   inequality constraints with lower and upper bounds:        0\n",
      "        inequality constraints with only upper bounds:        2\n",
      "\n",
      "iter    objective    inf_pr   inf_du lg(mu)  ||d||  lg(rg) alpha_du alpha_pr  ls\n",
      "   0 2.2550797e+003 3.14e+000 5.97e+001  -1.0 0.00e+000    -  0.00e+000 0.00e+000   0\n",
      "   1 2.2532292e+003 3.13e+000 1.10e+002  -1.0 1.59e+000   2.0 6.72e-001 6.33e-003f  1\n",
      "   2 1.8138231e+003 0.00e+000 1.04e+002  -1.0 3.13e+000   1.5 1.00e+000 1.00e+000f  1\n",
      "   3 1.5061745e+003 0.00e+000 8.70e+000  -1.0 7.86e-001   1.0 1.00e+000 1.00e+000f  1\n",
      "   4 1.2843923e+003 0.00e+000 4.52e+001  -1.0 1.36e+000   0.6 1.00e+000 1.00e+000f  1\n",
      "   5 1.2230410e+003 0.00e+000 6.55e+000  -1.0 4.45e-001   1.0 1.00e+000 1.00e+000f  1\n",
      "   6 1.1339670e+003 0.00e+000 6.43e+000  -1.0 9.62e-001   0.5 1.00e+000 1.00e+000f  1\n",
      "   7 9.9909725e+002 0.00e+000 5.58e+000  -1.0 9.46e-001   0.0 1.00e+000 1.00e+000f  1\n",
      "   8 9.6591090e+002 0.00e+000 6.76e-001  -1.0 2.31e-001   0.5 1.00e+000 1.00e+000f  1\n",
      "   9 9.0023617e+002 0.00e+000 1.69e+000  -1.7 6.01e-001  -0.0 1.00e+000 1.00e+000f  1\n",
      "iter    objective    inf_pr   inf_du lg(mu)  ||d||  lg(rg) alpha_du alpha_pr  ls\n",
      "  10 8.0090399e+002 0.00e+000 1.44e+001  -1.7 1.32e+000  -0.5 1.00e+000 1.00e+000f  1\n",
      "  11 7.7447658e+002 0.00e+000 5.94e-001  -1.7 3.14e-001  -0.1 1.00e+000 1.00e+000f  1\n",
      "  12 7.2736495e+002 0.00e+000 1.39e+001  -1.7 1.22e+000  -0.5 1.00e+000 1.00e+000f  1\n",
      "  13 6.6999841e+002 0.00e+000 6.01e+000  -1.7 3.25e+000  -1.0 1.00e+000 1.00e+000f  1\n",
      "  14 6.3849901e+002 0.00e+000 1.33e+000  -1.7 1.72e+000  -0.6 1.00e+000 1.00e+000f  1\n",
      "  15 6.3283804e+002 0.00e+000 7.44e-001  -1.7 3.41e-001  -0.2 1.00e+000 1.00e+000f  1\n",
      "  16 6.3079978e+002 0.00e+000 1.15e+000  -1.7 3.59e-001   0.3 1.00e+000 1.00e+000f  1\n",
      "  17 6.2972499e+002 0.00e+000 1.28e+000  -1.7 2.90e-001   0.7 1.00e+000 1.00e+000f  1\n",
      "  18 6.2811193e+002 0.00e+000 7.25e+000  -1.7 1.03e+000   0.2 1.00e+000 1.00e+000f  1\n",
      "  19 6.2211417e+002 0.00e+000 5.10e-001  -1.7 3.37e-001  -0.3 1.00e+000 1.00e+000f  1\n",
      "iter    objective    inf_pr   inf_du lg(mu)  ||d||  lg(rg) alpha_du alpha_pr  ls\n",
      "  20 6.1213727e+002 0.00e+000 3.07e-001  -1.7 6.35e-001  -0.7 1.00e+000 1.00e+000f  1\n",
      "  21 5.9655223e+002 0.00e+000 5.07e+000  -1.7 1.83e+000  -1.2 1.00e+000 1.00e+000f  1\n",
      "  22 5.8566741e+002 0.00e+000 8.35e+000  -1.7 2.88e+000  -1.7 1.00e+000 5.00e-001f  2\n",
      "  23 5.7922819e+002 0.00e+000 3.93e+000  -1.7 5.76e+000  -1.3 1.00e+000 5.00e-001f  2\n",
      "  24 5.7312967e+002 0.00e+000 2.26e+000  -1.7 1.89e+000  -0.8 1.00e+000 1.00e+000f  1\n",
      "  25 5.6372028e+002 0.00e+000 5.22e-001  -1.7 1.05e+000  -1.3 1.00e+000 1.00e+000f  1\n",
      "  26 5.5034611e+002 0.00e+000 4.40e+000  -1.7 1.85e+000  -1.8 1.00e+000 1.00e+000f  1\n",
      "  27 5.4469874e+002 0.00e+000 5.68e+000  -1.7 1.72e+000  -1.4 1.00e+000 5.00e-001f  2\n",
      "  28 5.3813105e+002 0.00e+000 2.58e+001  -1.7 2.29e+000  -1.9 1.00e+000 5.00e-001f  2\n",
      "  29 5.2178298e+002 0.00e+000 1.02e+001  -1.7 5.20e+000  -2.3 1.00e+000 1.00e+000f  1\n",
      "iter    objective    inf_pr   inf_du lg(mu)  ||d||  lg(rg) alpha_du alpha_pr  ls\n",
      "  30 5.1395152e+002 0.00e+000 5.76e+000  -1.7 1.51e+001    -  1.00e+000 5.00e-001f  2\n",
      "  31 5.1065618e+002 0.00e+000 5.40e+000  -1.7 2.13e+001  -1.0 1.00e+000 6.25e-002f  5\n",
      "  32 4.9646573e+002 0.00e+000 3.06e+000  -1.7 6.84e+000    -  1.00e+000 1.00e+000f  1\n",
      "  33 4.9193711e+002 0.00e+000 1.50e+000  -1.7 1.09e+000  -1.5 1.00e+000 1.00e+000f  1\n",
      "  34 4.9074145e+002 0.00e+000 1.80e+000  -1.7 5.89e+001    -  1.00e+000 3.12e-002f  6\n",
      "  35 4.8879491e+002 0.00e+000 5.58e+000  -1.7 8.97e+000    -  1.00e+000 2.50e-001f  3\n",
      "  36 4.8867905e+002 0.00e+000 1.13e+001  -1.7 4.51e+000    -  1.00e+000 1.00e+000f  1\n",
      "  37 4.7978612e+002 0.00e+000 2.48e+000  -1.7 2.68e+000    -  1.00e+000 1.00e+000f  1\n",
      "  38 4.7797838e+002 0.00e+000 1.15e+000  -1.7 8.27e+000    -  1.00e+000 2.50e-001f  3\n",
      "  39 4.7599332e+002 0.00e+000 4.75e-001  -1.7 2.16e+000    -  1.00e+000 1.00e+000f  1\n",
      "iter    objective    inf_pr   inf_du lg(mu)  ||d||  lg(rg) alpha_du alpha_pr  ls\n",
      "  40 4.7550377e+002 0.00e+000 2.58e+000  -1.7 4.36e+000    -  1.00e+000 5.00e-001f  2\n",
      "  41 4.7496057e+002 0.00e+000 5.03e-001  -1.7 2.98e+000    -  1.00e+000 1.00e+000f  1\n",
      "  42 4.7411086e+002 0.00e+000 2.92e+000  -1.7 2.42e+000    -  1.00e+000 1.00e+000f  1\n",
      "  43 4.7374174e+002 0.00e+000 2.19e+000  -1.7 4.89e+000    -  1.00e+000 2.50e-001f  3\n",
      "  44 4.7330500e+002 0.00e+000 9.60e-002  -1.7 1.15e+000    -  1.00e+000 1.00e+000f  1\n",
      "  45 4.7318632e+002 0.00e+000 6.58e-001  -2.5 2.93e+000    -  1.00e+000 5.00e-001f  2\n",
      "  46 4.7302582e+002 0.00e+000 4.64e-002  -2.5 3.08e-001  -2.0 1.00e+000 1.00e+000f  1\n",
      "  47 4.7262045e+002 0.00e+000 4.58e-001  -2.5 6.25e+000  -2.4 1.00e+000 2.50e-001f  3\n",
      "  48 4.7229202e+002 0.00e+000 1.32e+000  -2.5 1.28e+001  -2.9 1.00e+000 2.50e-001f  3\n",
      "  49 4.7020086e+002 0.00e+000 8.23e-001  -2.5 1.62e+000    -  1.00e+000 1.00e+000f  1\n",
      "iter    objective    inf_pr   inf_du lg(mu)  ||d||  lg(rg) alpha_du alpha_pr  ls\n",
      "  50 4.6992160e+002 0.00e+000 4.77e-001  -2.5 1.08e+000    -  1.00e+000 1.00e+000f  1\n",
      "  51 4.6982041e+002 0.00e+000 9.69e-002  -2.5 2.16e-001    -  1.00e+000 1.00e+000f  1\n",
      "  52 4.6981615e+002 0.00e+000 8.40e-003  -2.5 1.57e-001    -  1.00e+000 1.00e+000f  1\n",
      "  53 4.6981343e+002 0.00e+000 3.93e-005  -3.8 7.42e-003    -  1.00e+000 1.00e+000f  1\n",
      "  54 4.6981329e+002 0.00e+000 7.58e-009  -5.7 2.91e-004    -  1.00e+000 1.00e+000f  1\n",
      "  55 4.6981328e+002 0.00e+000 3.96e-014  -8.6 8.96e-007    -  1.00e+000 1.00e+000f  1\n",
      "\n",
      "Number of Iterations....: 55\n",
      "\n",
      "                                   (scaled)                 (unscaled)\n",
      "Objective...............:  4.6981328347856481e+002   4.6981328347856481e+002\n",
      "Dual infeasibility......:  3.9579450827886831e-014   3.9579450827886831e-014\n",
      "Constraint violation....:  0.0000000000000000e+000   0.0000000000000000e+000\n",
      "Complementarity.........:  2.5061611648520770e-009   2.5061611648520770e-009\n",
      "Overall NLP error.......:  2.5061611648520770e-009   2.5061611648520770e-009\n",
      "\n",
      "\n",
      "Number of objective function evaluations             = 95\n",
      "Number of objective gradient evaluations             = 56\n",
      "Number of equality constraint evaluations            = 0\n",
      "Number of inequality constraint evaluations          = 95\n",
      "Number of equality constraint Jacobian evaluations   = 0\n",
      "Number of inequality constraint Jacobian evaluations = 56\n",
      "Number of Lagrangian Hessian evaluations             = 55\n",
      "Total CPU secs in IPOPT (w/o function evaluations)   =      0.638\n",
      "Total CPU secs in NLP function evaluations           =      1.235\n",
      "\n",
      "EXIT: Optimal Solution Found.\n",
      "      solver  :   t_proc      (avg)   t_wall      (avg)    n_eval\n",
      "       nlp_f  | 216.00ms (  2.27ms) 215.39ms (  2.27ms)        95\n",
      "       nlp_g  |        0 (       0)        0 (       0)        95\n",
      "  nlp_grad_f  | 239.00ms (  4.19ms) 239.23ms (  4.20ms)        57\n",
      "  nlp_hess_l  | 780.00ms ( 14.18ms) 781.12ms ( 14.20ms)        55\n",
      "   nlp_jac_g  |   2.00ms ( 35.09us)   2.00ms ( 35.04us)        57\n",
      "       total  |   1.87 s (  1.87 s)   1.87 s (  1.87 s)         1\n"
     ]
    }
   ],
   "source": [
    "opti = casadi.Opti();\n",
    "p = opti.variable(1227, 3) # on a 1227 poses qui contienent 3 inconnues chacune\n",
    "\n",
    "# on constitue ensuite notre fonction f à minimiser\n",
    "x1, y1, theta1 = p[0,0], p[0,1], p[0,2]\n",
    "x, y , theta = 0, 0, 0\n",
    "dx, dy , dtheta = ODO[0]\n",
    "f = (x1 - np.cos(theta)*dx - np.sin(theta)*dy - x)**2 + (y1 - np.sin(theta)*dx - np.cos(theta)*dy - y)**2 + (theta1 - dtheta - theta)**2\n",
    "# on commence par les relations d'odométrie\n",
    "for i in range(1226):\n",
    "    x, y , theta = p[i,0], p[i,1], p[i,2]\n",
    "    x1, y1, theta1 = p[i+1,0], p[i+1,1], p[i+1,2]\n",
    "    dx, dy , dtheta = ODO[i+1]\n",
    "\n",
    "    f += (x1 - np.cos(theta)*dx - np.sin(theta)*dy - x)**2 + (y1 - np.sin(theta)*dx - np.cos(theta)*dy - y)**2 + (theta1 - dtheta - theta)**2\n",
    "\n",
    "# Puis on ajoute les relations de fermetures\n",
    "for k in range (256):\n",
    "    i, j, dx, dy, dtheta = LOOP[k]\n",
    "    xi, yi, thetai = p[i,0], p[i,1], p[i,2]\n",
    "    xj, yj, thetaj = p[j,0], p[j,1], p[j,2]\n",
    "\n",
    "    f += (xj - np.cos(thetai)*dx - np.sin(thetai)*dy - xi)**2 + (yj - np.sin(thetai)*dx - np.cos(thetai)*dy - yi)**2 + (thetaj - dtheta - thetai)**2\n",
    "\n",
    "opti.minimize(f)\n",
    "# les contraintes \n",
    "opti.subject_to( p[2] - np.pi <=0)\n",
    "opti.subject_to(p[2] + np.pi <=0)\n",
    "\n",
    "# La solution à notre problème d'optimisation\n",
    "opti.solver('ipopt');\n",
    "sol = opti.solve();\n",
    "res = sol.value(p)\n"
   ]
  },
  {
   "cell_type": "code",
   "execution_count": 100,
   "metadata": {},
   "outputs": [
    {
     "name": "stdout",
     "output_type": "stream",
     "text": [
      "[[-1.05050578e+00  4.85722582e-17  1.83490580e-01]\n",
      " [-2.10101156e+00  9.71445164e-17  3.67085160e-01]\n",
      " [-3.14159264e+00  3.05102706e-03  5.43744101e-01]\n",
      " ...\n",
      " [-2.03804113e+00  2.14566565e+00 -2.45080522e+00]\n",
      " [-2.12005906e+00  2.07789124e+00 -2.46753622e+00]\n",
      " [-2.12005906e+00  2.07789124e+00 -2.46819822e+00]] (1227, 3)\n"
     ]
    }
   ],
   "source": [
    "print(res, res.shape)"
   ]
  },
  {
   "cell_type": "code",
   "execution_count": 101,
   "metadata": {},
   "outputs": [
    {
     "data": {
      "image/png": "[encoded data removed]",
      "text/plain": [
       "<Figure size 432x288 with 1 Axes>"
      ]
     },
     "metadata": {
      "needs_background": "light"
     },
     "output_type": "display_data"
    }
   ],
   "source": [
    "# on affiche ici le graphe des poses\n",
    "plt.plot(res[:, 0], res[:, 1])\n",
    "plt.show()"
   ]
  },
  {
   "cell_type": "code",
   "execution_count": null,
   "metadata": {},
   "outputs": [],
   "source": []
  }
 ],
 "metadata": {
  "interpreter": {
   "hash": "23a6b913c5c0dcb48130fb95bc8c7b084c5a812df45cbb14e417b737a9d4ee46"
  },
  "kernelspec": {
   "display_name": "Python 3.9.5 ('base')",
   "language": "python",
   "name": "python3"
  },
  "language_info": {
   "codemirror_mode": {
    "name": "ipython",
    "version": 3
   },
   "file_extension": ".py",
   "mimetype": "text/x-python",
   "name": "python",
   "nbconvert_exporter": "python",
   "pygments_lexer": "ipython3",
   "version": "3.9.5"
  },
  "orig_nbformat": 4
 },
 "nbformat": 4,
 "nbformat_minor": 2
}
